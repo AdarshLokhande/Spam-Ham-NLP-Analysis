{
 "cells": [
  {
   "cell_type": "code",
   "execution_count": 1,
   "id": "900d2be0-1aab-457f-9257-41e39fda0f99",
   "metadata": {},
   "outputs": [
    {
     "data": {
      "text/html": [
       "<div>\n",
       "<style scoped>\n",
       "    .dataframe tbody tr th:only-of-type {\n",
       "        vertical-align: middle;\n",
       "    }\n",
       "\n",
       "    .dataframe tbody tr th {\n",
       "        vertical-align: top;\n",
       "    }\n",
       "\n",
       "    .dataframe thead th {\n",
       "        text-align: right;\n",
       "    }\n",
       "</style>\n",
       "<table border=\"1\" class=\"dataframe\">\n",
       "  <thead>\n",
       "    <tr style=\"text-align: right;\">\n",
       "      <th></th>\n",
       "      <th>v1</th>\n",
       "      <th>v2</th>\n",
       "      <th>Unnamed: 2</th>\n",
       "      <th>Unnamed: 3</th>\n",
       "      <th>Unnamed: 4</th>\n",
       "    </tr>\n",
       "  </thead>\n",
       "  <tbody>\n",
       "    <tr>\n",
       "      <th>0</th>\n",
       "      <td>ham</td>\n",
       "      <td>Go until jurong point, crazy.. Available only ...</td>\n",
       "      <td>NaN</td>\n",
       "      <td>NaN</td>\n",
       "      <td>NaN</td>\n",
       "    </tr>\n",
       "    <tr>\n",
       "      <th>1</th>\n",
       "      <td>ham</td>\n",
       "      <td>Ok lar... Joking wif u oni...</td>\n",
       "      <td>NaN</td>\n",
       "      <td>NaN</td>\n",
       "      <td>NaN</td>\n",
       "    </tr>\n",
       "    <tr>\n",
       "      <th>2</th>\n",
       "      <td>spam</td>\n",
       "      <td>Free entry in 2 a wkly comp to win FA Cup fina...</td>\n",
       "      <td>NaN</td>\n",
       "      <td>NaN</td>\n",
       "      <td>NaN</td>\n",
       "    </tr>\n",
       "    <tr>\n",
       "      <th>3</th>\n",
       "      <td>ham</td>\n",
       "      <td>U dun say so early hor... U c already then say...</td>\n",
       "      <td>NaN</td>\n",
       "      <td>NaN</td>\n",
       "      <td>NaN</td>\n",
       "    </tr>\n",
       "    <tr>\n",
       "      <th>4</th>\n",
       "      <td>ham</td>\n",
       "      <td>Nah I don't think he goes to usf, he lives aro...</td>\n",
       "      <td>NaN</td>\n",
       "      <td>NaN</td>\n",
       "      <td>NaN</td>\n",
       "    </tr>\n",
       "  </tbody>\n",
       "</table>\n",
       "</div>"
      ],
      "text/plain": [
       "     v1                                                 v2 Unnamed: 2  \\\n",
       "0   ham  Go until jurong point, crazy.. Available only ...        NaN   \n",
       "1   ham                      Ok lar... Joking wif u oni...        NaN   \n",
       "2  spam  Free entry in 2 a wkly comp to win FA Cup fina...        NaN   \n",
       "3   ham  U dun say so early hor... U c already then say...        NaN   \n",
       "4   ham  Nah I don't think he goes to usf, he lives aro...        NaN   \n",
       "\n",
       "  Unnamed: 3 Unnamed: 4  \n",
       "0        NaN        NaN  \n",
       "1        NaN        NaN  \n",
       "2        NaN        NaN  \n",
       "3        NaN        NaN  \n",
       "4        NaN        NaN  "
      ]
     },
     "execution_count": 1,
     "metadata": {},
     "output_type": "execute_result"
    }
   ],
   "source": [
    "# LSTM\n",
    "import pandas as pd\n",
    "df = pd.read_csv('spam.csv',encoding = 'cp1252')\n",
    "df.head()"
   ]
  },
  {
   "cell_type": "code",
   "execution_count": 2,
   "id": "83f0eb0c-03a5-4ccf-8937-5b8527490286",
   "metadata": {},
   "outputs": [
    {
     "data": {
      "text/html": [
       "<div>\n",
       "<style scoped>\n",
       "    .dataframe tbody tr th:only-of-type {\n",
       "        vertical-align: middle;\n",
       "    }\n",
       "\n",
       "    .dataframe tbody tr th {\n",
       "        vertical-align: top;\n",
       "    }\n",
       "\n",
       "    .dataframe thead th {\n",
       "        text-align: right;\n",
       "    }\n",
       "</style>\n",
       "<table border=\"1\" class=\"dataframe\">\n",
       "  <thead>\n",
       "    <tr style=\"text-align: right;\">\n",
       "      <th></th>\n",
       "      <th>v1</th>\n",
       "      <th>v2</th>\n",
       "    </tr>\n",
       "  </thead>\n",
       "  <tbody>\n",
       "    <tr>\n",
       "      <th>0</th>\n",
       "      <td>ham</td>\n",
       "      <td>Go until jurong point, crazy.. Available only ...</td>\n",
       "    </tr>\n",
       "    <tr>\n",
       "      <th>1</th>\n",
       "      <td>ham</td>\n",
       "      <td>Ok lar... Joking wif u oni...</td>\n",
       "    </tr>\n",
       "    <tr>\n",
       "      <th>2</th>\n",
       "      <td>spam</td>\n",
       "      <td>Free entry in 2 a wkly comp to win FA Cup fina...</td>\n",
       "    </tr>\n",
       "    <tr>\n",
       "      <th>3</th>\n",
       "      <td>ham</td>\n",
       "      <td>U dun say so early hor... U c already then say...</td>\n",
       "    </tr>\n",
       "    <tr>\n",
       "      <th>4</th>\n",
       "      <td>ham</td>\n",
       "      <td>Nah I don't think he goes to usf, he lives aro...</td>\n",
       "    </tr>\n",
       "  </tbody>\n",
       "</table>\n",
       "</div>"
      ],
      "text/plain": [
       "     v1                                                 v2\n",
       "0   ham  Go until jurong point, crazy.. Available only ...\n",
       "1   ham                      Ok lar... Joking wif u oni...\n",
       "2  spam  Free entry in 2 a wkly comp to win FA Cup fina...\n",
       "3   ham  U dun say so early hor... U c already then say...\n",
       "4   ham  Nah I don't think he goes to usf, he lives aro..."
      ]
     },
     "execution_count": 2,
     "metadata": {},
     "output_type": "execute_result"
    }
   ],
   "source": [
    "df = df.iloc[::,[0,1]]\n",
    "df.head()"
   ]
  },
  {
   "cell_type": "code",
   "execution_count": 3,
   "id": "1ca9e3e3-5631-4ec8-8dd4-3c2636851dab",
   "metadata": {},
   "outputs": [
    {
     "data": {
      "text/html": [
       "<div>\n",
       "<style scoped>\n",
       "    .dataframe tbody tr th:only-of-type {\n",
       "        vertical-align: middle;\n",
       "    }\n",
       "\n",
       "    .dataframe tbody tr th {\n",
       "        vertical-align: top;\n",
       "    }\n",
       "\n",
       "    .dataframe thead th {\n",
       "        text-align: right;\n",
       "    }\n",
       "</style>\n",
       "<table border=\"1\" class=\"dataframe\">\n",
       "  <thead>\n",
       "    <tr style=\"text-align: right;\">\n",
       "      <th></th>\n",
       "      <th>label</th>\n",
       "      <th>message</th>\n",
       "    </tr>\n",
       "  </thead>\n",
       "  <tbody>\n",
       "    <tr>\n",
       "      <th>0</th>\n",
       "      <td>ham</td>\n",
       "      <td>Go until jurong point, crazy.. Available only ...</td>\n",
       "    </tr>\n",
       "    <tr>\n",
       "      <th>1</th>\n",
       "      <td>ham</td>\n",
       "      <td>Ok lar... Joking wif u oni...</td>\n",
       "    </tr>\n",
       "    <tr>\n",
       "      <th>2</th>\n",
       "      <td>spam</td>\n",
       "      <td>Free entry in 2 a wkly comp to win FA Cup fina...</td>\n",
       "    </tr>\n",
       "    <tr>\n",
       "      <th>3</th>\n",
       "      <td>ham</td>\n",
       "      <td>U dun say so early hor... U c already then say...</td>\n",
       "    </tr>\n",
       "    <tr>\n",
       "      <th>4</th>\n",
       "      <td>ham</td>\n",
       "      <td>Nah I don't think he goes to usf, he lives aro...</td>\n",
       "    </tr>\n",
       "  </tbody>\n",
       "</table>\n",
       "</div>"
      ],
      "text/plain": [
       "  label                                            message\n",
       "0   ham  Go until jurong point, crazy.. Available only ...\n",
       "1   ham                      Ok lar... Joking wif u oni...\n",
       "2  spam  Free entry in 2 a wkly comp to win FA Cup fina...\n",
       "3   ham  U dun say so early hor... U c already then say...\n",
       "4   ham  Nah I don't think he goes to usf, he lives aro..."
      ]
     },
     "execution_count": 3,
     "metadata": {},
     "output_type": "execute_result"
    }
   ],
   "source": [
    "df = df.rename(columns = {'v1':'label' , 'v2':'message'})\n",
    "df.head()"
   ]
  },
  {
   "cell_type": "code",
   "execution_count": 4,
   "id": "b1751aad-1611-4b88-a6ff-677af23f417b",
   "metadata": {},
   "outputs": [
    {
     "data": {
      "text/html": [
       "<div>\n",
       "<style scoped>\n",
       "    .dataframe tbody tr th:only-of-type {\n",
       "        vertical-align: middle;\n",
       "    }\n",
       "\n",
       "    .dataframe tbody tr th {\n",
       "        vertical-align: top;\n",
       "    }\n",
       "\n",
       "    .dataframe thead th {\n",
       "        text-align: right;\n",
       "    }\n",
       "</style>\n",
       "<table border=\"1\" class=\"dataframe\">\n",
       "  <thead>\n",
       "    <tr style=\"text-align: right;\">\n",
       "      <th></th>\n",
       "      <th>label</th>\n",
       "      <th>message</th>\n",
       "    </tr>\n",
       "  </thead>\n",
       "  <tbody>\n",
       "    <tr>\n",
       "      <th>0</th>\n",
       "      <td>ham</td>\n",
       "      <td>go until jurong point, crazy.. available only ...</td>\n",
       "    </tr>\n",
       "    <tr>\n",
       "      <th>1</th>\n",
       "      <td>ham</td>\n",
       "      <td>ok lar... joking wif u oni...</td>\n",
       "    </tr>\n",
       "    <tr>\n",
       "      <th>2</th>\n",
       "      <td>spam</td>\n",
       "      <td>free entry in 2 a wkly comp to win fa cup fina...</td>\n",
       "    </tr>\n",
       "    <tr>\n",
       "      <th>3</th>\n",
       "      <td>ham</td>\n",
       "      <td>u dun say so early hor... u c already then say...</td>\n",
       "    </tr>\n",
       "    <tr>\n",
       "      <th>4</th>\n",
       "      <td>ham</td>\n",
       "      <td>nah i don't think he goes to usf, he lives aro...</td>\n",
       "    </tr>\n",
       "  </tbody>\n",
       "</table>\n",
       "</div>"
      ],
      "text/plain": [
       "  label                                            message\n",
       "0   ham  go until jurong point, crazy.. available only ...\n",
       "1   ham                      ok lar... joking wif u oni...\n",
       "2  spam  free entry in 2 a wkly comp to win fa cup fina...\n",
       "3   ham  u dun say so early hor... u c already then say...\n",
       "4   ham  nah i don't think he goes to usf, he lives aro..."
      ]
     },
     "execution_count": 4,
     "metadata": {},
     "output_type": "execute_result"
    }
   ],
   "source": [
    "df.message = df.message.str.lower()\n",
    "df.head()"
   ]
  },
  {
   "cell_type": "code",
   "execution_count": 5,
   "id": "948a07ed-9dc8-4c4f-913b-1adc178d0359",
   "metadata": {},
   "outputs": [],
   "source": [
    "df.label.replace({'spam':0 , 'ham':1},inplace = True) \n",
    "# spam = 0\n",
    "# Ham = 1"
   ]
  },
  {
   "cell_type": "code",
   "execution_count": 6,
   "id": "6867016a-ab7d-4721-892c-dc2d517889b1",
   "metadata": {},
   "outputs": [],
   "source": [
    "# In NLP I removed Stopwords and Punctuation but while building my embedding model no need to remove stopwords  , punctuation"
   ]
  },
  {
   "cell_type": "code",
   "execution_count": 7,
   "id": "b807eabf-cc57-4ec7-a081-f605b29f57c8",
   "metadata": {},
   "outputs": [],
   "source": [
    "from sklearn.model_selection import train_test_split\n",
    "train , test = train_test_split(df , test_size = .2)\n",
    "train_X = train.iloc[::,1]\n",
    "train_y = train.iloc[::,0]\n",
    "test_X = test.iloc[::,1]\n",
    "test_y = test.iloc[:: , 0]"
   ]
  },
  {
   "cell_type": "code",
   "execution_count": 8,
   "id": "f3b80463-b711-4f44-9bad-25b0527f5432",
   "metadata": {},
   "outputs": [
    {
     "data": {
      "text/plain": [
       "4441    1\n",
       "2117    1\n",
       "98      1\n",
       "3261    1\n",
       "1105    1\n",
       "       ..\n",
       "2450    1\n",
       "1118    1\n",
       "4983    0\n",
       "331     1\n",
       "4152    0\n",
       "Name: label, Length: 1115, dtype: int64"
      ]
     },
     "execution_count": 8,
     "metadata": {},
     "output_type": "execute_result"
    }
   ],
   "source": [
    "test_y"
   ]
  },
  {
   "cell_type": "code",
   "execution_count": 9,
   "id": "1d74732a-1f81-438f-a051-f3069764f01a",
   "metadata": {},
   "outputs": [],
   "source": [
    "import numpy as np\n",
    "import pandas as pd\n",
    "from keras.layers import Dense , SimpleRNN , GRU , LSTM , Embedding\n",
    "from keras.models import Sequential\n",
    "from tensorflow.keras.optimizers import Adam\n",
    "from tensorflow.keras.utils import to_categorical"
   ]
  },
  {
   "cell_type": "code",
   "execution_count": 10,
   "id": "ae365898-f6b3-444f-9198-78388cb338a0",
   "metadata": {},
   "outputs": [
    {
     "data": {
      "text/plain": [
       "array([[0., 1.],\n",
       "       [0., 1.],\n",
       "       [0., 1.],\n",
       "       ...,\n",
       "       [0., 1.],\n",
       "       [0., 1.],\n",
       "       [0., 1.]], dtype=float32)"
      ]
     },
     "execution_count": 10,
     "metadata": {},
     "output_type": "execute_result"
    }
   ],
   "source": [
    "train_y = to_categorical(train_y) # one hot encoding happened (dummy variable categorization)\n",
    "train_y"
   ]
  },
  {
   "cell_type": "code",
   "execution_count": 11,
   "id": "6493866b-d400-40f1-8a17-f2b39186af9e",
   "metadata": {},
   "outputs": [],
   "source": [
    "max_num_words = 10000 # how many unique words I want to consider from entire corpus (full document)\n",
    "seq_len = 50 # I will take 50-50 words of batches\n",
    "embedding_size = 100"
   ]
  },
  {
   "cell_type": "code",
   "execution_count": 12,
   "id": "24849307-635d-4a31-9be6-dd7a8191a4ed",
   "metadata": {},
   "outputs": [],
   "source": [
    "from keras.preprocessing.text import Tokenizer # it is used for tokenization (assign number or take to each word)\n",
    "from keras_preprocessing.sequence import pad_sequences # to bring each embedding had a same length"
   ]
  },
  {
   "cell_type": "code",
   "execution_count": 13,
   "id": "72089cdb-f796-4f8a-8f79-b940f89f0916",
   "metadata": {},
   "outputs": [],
   "source": [
    "tokenizer = Tokenizer(num_words = max_num_words)\n",
    "tokenizer.fit_on_texts(df.message)"
   ]
  },
  {
   "cell_type": "code",
   "execution_count": 14,
   "id": "9ae6abda-551d-40b5-bc27-5cf132ee63dc",
   "metadata": {},
   "outputs": [],
   "source": [
    "train_X = tokenizer.texts_to_sequences(train_X)\n",
    "train_X = pad_sequences(train_X , maxlen=seq_len)"
   ]
  },
  {
   "cell_type": "code",
   "execution_count": 15,
   "id": "8fbe9cd2-7cd2-4095-8645-f7c2e093472c",
   "metadata": {},
   "outputs": [],
   "source": [
    "test_X = tokenizer.texts_to_sequences(test_X)\n",
    "test_X = pad_sequences(test_X , maxlen=seq_len)"
   ]
  },
  {
   "cell_type": "code",
   "execution_count": 16,
   "id": "7dcbd59e-af57-4f94-80ac-38aea4e2a8a1",
   "metadata": {},
   "outputs": [
    {
     "data": {
      "text/plain": [
       "array([   0,    0,    0,    0,    0,    0,    0,    0,    0,    0,    0,\n",
       "          0,    0,    0,    0,    0,    0,    0,    0,    0,    0,    0,\n",
       "          2, 1503,    7,  195,    5, 1080,  193,   89, 4927,  603, 4928,\n",
       "         36,  620,  193,   50,   19,  141, 4929,  188, 4930,  671,   48,\n",
       "       4931,   92,   36,    5,  338,   52])"
      ]
     },
     "execution_count": 16,
     "metadata": {},
     "output_type": "execute_result"
    }
   ],
   "source": [
    "train_X[9]"
   ]
  },
  {
   "cell_type": "code",
   "execution_count": 17,
   "id": "380ea0b0-94c6-4c19-a955-2096130b9ef0",
   "metadata": {},
   "outputs": [
    {
     "data": {
      "text/plain": [
       "array([   0,    0,    0,    0,    0,    0,    0,    0,    0,    0,    0,\n",
       "          0,    0,    0,    0,    0,    0,    0,    0,    0,    0,    0,\n",
       "          0,    0,    0,    0,    0,    0,    0,    0,    0,    0,    0,\n",
       "          0,    0,    0,    0,    0,    0,    0,    0,    0,    0,    0,\n",
       "          0,   60,   87,    2, 1178, 8052])"
      ]
     },
     "execution_count": 17,
     "metadata": {},
     "output_type": "execute_result"
    }
   ],
   "source": [
    "test_X[9]"
   ]
  },
  {
   "cell_type": "code",
   "execution_count": 18,
   "id": "8f5eedfb-7271-4234-b09c-f2817125e91b",
   "metadata": {},
   "outputs": [],
   "source": [
    "model = Sequential() # initialize the network\n",
    "model.add(Embedding(input_dim  = max_num_words , \n",
    "                    input_length = seq_len,\n",
    "                    output_dim = embedding_size))"
   ]
  },
  {
   "cell_type": "code",
   "execution_count": 19,
   "id": "32d831bd-5b69-4dc1-b1f6-c30f004b907c",
   "metadata": {},
   "outputs": [
    {
     "name": "stderr",
     "output_type": "stream",
     "text": [
      "WARNING:absl:`lr` is deprecated, please use `learning_rate` instead, or use the legacy optimizer, e.g.,tf.keras.optimizers.legacy.Adam.\n"
     ]
    }
   ],
   "source": [
    "model.add(LSTM(5)) # 5 neurons\n",
    "model.add(Dense(2 , activation = 'softmax')) # 2no. of classes ham and spam\n",
    "adam = Adam(lr  =.001)\n",
    "model.compile(optimizer = 'adam' , loss = 'categorical_crossentropy',metrics = ['accuracy'])"
   ]
  },
  {
   "cell_type": "code",
   "execution_count": 20,
   "id": "27701f62-169b-4997-88cc-773e959c1993",
   "metadata": {},
   "outputs": [
    {
     "name": "stdout",
     "output_type": "stream",
     "text": [
      "Epoch 1/5\n",
      "126/126 [==============================] - 7s 28ms/step - loss: 0.3034 - accuracy: 0.9167 - val_loss: 0.1273 - val_accuracy: 0.9910\n",
      "Epoch 2/5\n",
      "126/126 [==============================] - 2s 19ms/step - loss: 0.0976 - accuracy: 0.9868 - val_loss: 0.0700 - val_accuracy: 0.9910\n",
      "Epoch 3/5\n",
      "126/126 [==============================] - 2s 19ms/step - loss: 0.0483 - accuracy: 0.9960 - val_loss: 0.0505 - val_accuracy: 0.9933\n",
      "Epoch 4/5\n",
      "126/126 [==============================] - 2s 20ms/step - loss: 0.0250 - accuracy: 0.9980 - val_loss: 0.0460 - val_accuracy: 0.9910\n",
      "Epoch 5/5\n",
      "126/126 [==============================] - 3s 20ms/step - loss: 0.0143 - accuracy: 0.9993 - val_loss: 0.0392 - val_accuracy: 0.9933\n"
     ]
    },
    {
     "data": {
      "text/plain": [
       "<keras.callbacks.History at 0x1da325f0c10>"
      ]
     },
     "execution_count": 20,
     "metadata": {},
     "output_type": "execute_result"
    }
   ],
   "source": [
    "model.fit(train_X , train_y , epochs = 5,validation_split = .1)"
   ]
  },
  {
   "cell_type": "code",
   "execution_count": 21,
   "id": "e140178f-d72e-4d5b-8657-ff19a12b2ea3",
   "metadata": {},
   "outputs": [
    {
     "name": "stdout",
     "output_type": "stream",
     "text": [
      "35/35 [==============================] - 1s 3ms/step\n"
     ]
    },
    {
     "data": {
      "text/plain": [
       "array([[0.00542333, 0.9945767 ],\n",
       "       [0.00502718, 0.9949728 ],\n",
       "       [0.00577277, 0.9942272 ],\n",
       "       ...,\n",
       "       [0.97763264, 0.02236737],\n",
       "       [0.00368133, 0.9963187 ],\n",
       "       [0.98395306, 0.01604694]], dtype=float32)"
      ]
     },
     "execution_count": 21,
     "metadata": {},
     "output_type": "execute_result"
    }
   ],
   "source": [
    "pred_values = model.predict(test_X)\n",
    "pred_values # ans in probabilitites"
   ]
  },
  {
   "cell_type": "code",
   "execution_count": 22,
   "id": "2600f342-52cc-4fff-bed9-abf26c663c07",
   "metadata": {},
   "outputs": [
    {
     "data": {
      "text/plain": [
       "array([[142,  10],\n",
       "       [  3, 960]], dtype=int64)"
      ]
     },
     "execution_count": 22,
     "metadata": {},
     "output_type": "execute_result"
    }
   ],
   "source": [
    "# to build the confusion matrix prob should be converted to 0 and 1\n",
    "pred_in_classes = np.argmax(pred_values , axis = 1)\n",
    "from sklearn.metrics import confusion_matrix , accuracy_score\n",
    "confusion_matrix(test_y , pred_in_classes)"
   ]
  },
  {
   "cell_type": "code",
   "execution_count": 23,
   "id": "c0a9e171-6041-4b71-b84e-dedddddfd6aa",
   "metadata": {},
   "outputs": [
    {
     "data": {
      "text/plain": [
       "0.9883408071748879"
      ]
     },
     "execution_count": 23,
     "metadata": {},
     "output_type": "execute_result"
    }
   ],
   "source": [
    "accuracy_score(test_y , pred_in_classes)"
   ]
  },
  {
   "cell_type": "code",
   "execution_count": null,
   "id": "2c6b2cec-8882-47d6-a531-1fa8d7d89655",
   "metadata": {},
   "outputs": [],
   "source": []
  }
 ],
 "metadata": {
  "kernelspec": {
   "display_name": "Python 3 (ipykernel)",
   "language": "python",
   "name": "python3"
  },
  "language_info": {
   "codemirror_mode": {
    "name": "ipython",
    "version": 3
   },
   "file_extension": ".py",
   "mimetype": "text/x-python",
   "name": "python",
   "nbconvert_exporter": "python",
   "pygments_lexer": "ipython3",
   "version": "3.9.12"
  }
 },
 "nbformat": 4,
 "nbformat_minor": 5
}
