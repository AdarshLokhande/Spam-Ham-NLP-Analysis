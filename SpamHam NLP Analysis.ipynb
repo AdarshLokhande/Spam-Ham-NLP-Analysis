{
 "cells": [
  {
   "cell_type": "markdown",
   "id": "f7ff51c2-a245-489c-8c6a-0c27323f5a7e",
   "metadata": {},
   "source": [
    "# About The DataSet\n",
    "The dataset and working belongs to getting started in NLP\n",
    "Content:- The dataset contains email received. The dataset contains two columns Text and Spam.\n",
    "\n",
    "v2 :- Text / Email received.\n",
    "\n",
    "v1:- Whether the email received is spam/ham(legitimate)\n",
    "Class 1: HAM (Legitimate)\n",
    "Class 0: SPAM\n",
    "\n",
    "Goal:- Using NLP we have to build a model for future mails that can classify into spam/ham\n",
    "\n",
    "Terms used in NLP ['Tokenization','Stemming',TF-IDF','stopwords','corpus']"
   ]
  },
  {
   "cell_type": "code",
   "execution_count": 1,
   "id": "c685bf4f-bca5-4390-a63b-8eb19b6777b9",
   "metadata": {},
   "outputs": [],
   "source": [
    "# Suppress Warnings for clean notebook\n",
    "import warnings\n",
    "warnings.filterwarnings('ignore')"
   ]
  },
  {
   "cell_type": "code",
   "execution_count": 2,
   "id": "cc61f3b7-571c-4749-b604-91a0bcf24dd1",
   "metadata": {},
   "outputs": [
    {
     "data": {
      "text/html": [
       "<div>\n",
       "<style scoped>\n",
       "    .dataframe tbody tr th:only-of-type {\n",
       "        vertical-align: middle;\n",
       "    }\n",
       "\n",
       "    .dataframe tbody tr th {\n",
       "        vertical-align: top;\n",
       "    }\n",
       "\n",
       "    .dataframe thead th {\n",
       "        text-align: right;\n",
       "    }\n",
       "</style>\n",
       "<table border=\"1\" class=\"dataframe\">\n",
       "  <thead>\n",
       "    <tr style=\"text-align: right;\">\n",
       "      <th></th>\n",
       "      <th>v1</th>\n",
       "      <th>v2</th>\n",
       "      <th>Unnamed: 2</th>\n",
       "      <th>Unnamed: 3</th>\n",
       "      <th>Unnamed: 4</th>\n",
       "    </tr>\n",
       "  </thead>\n",
       "  <tbody>\n",
       "    <tr>\n",
       "      <th>0</th>\n",
       "      <td>ham</td>\n",
       "      <td>Go until jurong point, crazy.. Available only ...</td>\n",
       "      <td>NaN</td>\n",
       "      <td>NaN</td>\n",
       "      <td>NaN</td>\n",
       "    </tr>\n",
       "    <tr>\n",
       "      <th>1</th>\n",
       "      <td>ham</td>\n",
       "      <td>Ok lar... Joking wif u oni...</td>\n",
       "      <td>NaN</td>\n",
       "      <td>NaN</td>\n",
       "      <td>NaN</td>\n",
       "    </tr>\n",
       "    <tr>\n",
       "      <th>2</th>\n",
       "      <td>spam</td>\n",
       "      <td>Free entry in 2 a wkly comp to win FA Cup fina...</td>\n",
       "      <td>NaN</td>\n",
       "      <td>NaN</td>\n",
       "      <td>NaN</td>\n",
       "    </tr>\n",
       "    <tr>\n",
       "      <th>3</th>\n",
       "      <td>ham</td>\n",
       "      <td>U dun say so early hor... U c already then say...</td>\n",
       "      <td>NaN</td>\n",
       "      <td>NaN</td>\n",
       "      <td>NaN</td>\n",
       "    </tr>\n",
       "    <tr>\n",
       "      <th>4</th>\n",
       "      <td>ham</td>\n",
       "      <td>Nah I don't think he goes to usf, he lives aro...</td>\n",
       "      <td>NaN</td>\n",
       "      <td>NaN</td>\n",
       "      <td>NaN</td>\n",
       "    </tr>\n",
       "  </tbody>\n",
       "</table>\n",
       "</div>"
      ],
      "text/plain": [
       "     v1                                                 v2 Unnamed: 2  \\\n",
       "0   ham  Go until jurong point, crazy.. Available only ...        NaN   \n",
       "1   ham                      Ok lar... Joking wif u oni...        NaN   \n",
       "2  spam  Free entry in 2 a wkly comp to win FA Cup fina...        NaN   \n",
       "3   ham  U dun say so early hor... U c already then say...        NaN   \n",
       "4   ham  Nah I don't think he goes to usf, he lives aro...        NaN   \n",
       "\n",
       "  Unnamed: 3 Unnamed: 4  \n",
       "0        NaN        NaN  \n",
       "1        NaN        NaN  \n",
       "2        NaN        NaN  \n",
       "3        NaN        NaN  \n",
       "4        NaN        NaN  "
      ]
     },
     "execution_count": 2,
     "metadata": {},
     "output_type": "execute_result"
    }
   ],
   "source": [
    "import pandas as pd\n",
    "df = pd.read_csv('spam.csv', encoding = 'cp1252')\n",
    "df.head()"
   ]
  },
  {
   "cell_type": "code",
   "execution_count": 3,
   "id": "745b59b4-63dd-40c2-afdf-01c07251287b",
   "metadata": {},
   "outputs": [
    {
     "data": {
      "text/html": [
       "<div>\n",
       "<style scoped>\n",
       "    .dataframe tbody tr th:only-of-type {\n",
       "        vertical-align: middle;\n",
       "    }\n",
       "\n",
       "    .dataframe tbody tr th {\n",
       "        vertical-align: top;\n",
       "    }\n",
       "\n",
       "    .dataframe thead th {\n",
       "        text-align: right;\n",
       "    }\n",
       "</style>\n",
       "<table border=\"1\" class=\"dataframe\">\n",
       "  <thead>\n",
       "    <tr style=\"text-align: right;\">\n",
       "      <th></th>\n",
       "      <th>v1</th>\n",
       "      <th>v2</th>\n",
       "    </tr>\n",
       "  </thead>\n",
       "  <tbody>\n",
       "    <tr>\n",
       "      <th>0</th>\n",
       "      <td>ham</td>\n",
       "      <td>Go until jurong point, crazy.. Available only ...</td>\n",
       "    </tr>\n",
       "    <tr>\n",
       "      <th>1</th>\n",
       "      <td>ham</td>\n",
       "      <td>Ok lar... Joking wif u oni...</td>\n",
       "    </tr>\n",
       "    <tr>\n",
       "      <th>2</th>\n",
       "      <td>spam</td>\n",
       "      <td>Free entry in 2 a wkly comp to win FA Cup fina...</td>\n",
       "    </tr>\n",
       "    <tr>\n",
       "      <th>3</th>\n",
       "      <td>ham</td>\n",
       "      <td>U dun say so early hor... U c already then say...</td>\n",
       "    </tr>\n",
       "    <tr>\n",
       "      <th>4</th>\n",
       "      <td>ham</td>\n",
       "      <td>Nah I don't think he goes to usf, he lives aro...</td>\n",
       "    </tr>\n",
       "  </tbody>\n",
       "</table>\n",
       "</div>"
      ],
      "text/plain": [
       "     v1                                                 v2\n",
       "0   ham  Go until jurong point, crazy.. Available only ...\n",
       "1   ham                      Ok lar... Joking wif u oni...\n",
       "2  spam  Free entry in 2 a wkly comp to win FA Cup fina...\n",
       "3   ham  U dun say so early hor... U c already then say...\n",
       "4   ham  Nah I don't think he goes to usf, he lives aro..."
      ]
     },
     "execution_count": 3,
     "metadata": {},
     "output_type": "execute_result"
    }
   ],
   "source": [
    "df = df.iloc[::,[0,1]]\n",
    "df.head()"
   ]
  },
  {
   "cell_type": "code",
   "execution_count": 4,
   "id": "51e86799-bd52-4cf5-877f-43fd6ce5a95c",
   "metadata": {},
   "outputs": [
    {
     "data": {
      "text/plain": [
       "(5572, 2)"
      ]
     },
     "execution_count": 4,
     "metadata": {},
     "output_type": "execute_result"
    }
   ],
   "source": [
    "df.shape"
   ]
  },
  {
   "cell_type": "code",
   "execution_count": 5,
   "id": "74d58b62-b504-4878-bba7-a9768c14ba45",
   "metadata": {},
   "outputs": [
    {
     "data": {
      "text/plain": [
       "11144"
      ]
     },
     "execution_count": 5,
     "metadata": {},
     "output_type": "execute_result"
    }
   ],
   "source": [
    "df.size"
   ]
  },
  {
   "cell_type": "code",
   "execution_count": 6,
   "id": "476668eb-1983-453f-9bd2-a66ebec4c882",
   "metadata": {},
   "outputs": [
    {
     "data": {
      "text/plain": [
       "'Even my brother is not like to speak with me. They treat me like aids patent.'"
      ]
     },
     "execution_count": 6,
     "metadata": {},
     "output_type": "execute_result"
    }
   ],
   "source": [
    "df['v2'][6]  # sentence"
   ]
  },
  {
   "cell_type": "code",
   "execution_count": null,
   "id": "62f302e9-588a-4e29-8432-0c0d4474beff",
   "metadata": {},
   "outputs": [],
   "source": []
  },
  {
   "cell_type": "markdown",
   "id": "903f66aa-9be6-41d3-b39d-20a0801ba9cb",
   "metadata": {},
   "source": [
    "#### I want to give some relevant names to my columns"
   ]
  },
  {
   "cell_type": "code",
   "execution_count": 7,
   "id": "d065c211-ecfa-4744-8589-874190883009",
   "metadata": {},
   "outputs": [
    {
     "data": {
      "text/html": [
       "<div>\n",
       "<style scoped>\n",
       "    .dataframe tbody tr th:only-of-type {\n",
       "        vertical-align: middle;\n",
       "    }\n",
       "\n",
       "    .dataframe tbody tr th {\n",
       "        vertical-align: top;\n",
       "    }\n",
       "\n",
       "    .dataframe thead th {\n",
       "        text-align: right;\n",
       "    }\n",
       "</style>\n",
       "<table border=\"1\" class=\"dataframe\">\n",
       "  <thead>\n",
       "    <tr style=\"text-align: right;\">\n",
       "      <th></th>\n",
       "      <th>label</th>\n",
       "      <th>message</th>\n",
       "    </tr>\n",
       "  </thead>\n",
       "  <tbody>\n",
       "    <tr>\n",
       "      <th>0</th>\n",
       "      <td>ham</td>\n",
       "      <td>Go until jurong point, crazy.. Available only ...</td>\n",
       "    </tr>\n",
       "    <tr>\n",
       "      <th>1</th>\n",
       "      <td>ham</td>\n",
       "      <td>Ok lar... Joking wif u oni...</td>\n",
       "    </tr>\n",
       "    <tr>\n",
       "      <th>2</th>\n",
       "      <td>spam</td>\n",
       "      <td>Free entry in 2 a wkly comp to win FA Cup fina...</td>\n",
       "    </tr>\n",
       "    <tr>\n",
       "      <th>3</th>\n",
       "      <td>ham</td>\n",
       "      <td>U dun say so early hor... U c already then say...</td>\n",
       "    </tr>\n",
       "    <tr>\n",
       "      <th>4</th>\n",
       "      <td>ham</td>\n",
       "      <td>Nah I don't think he goes to usf, he lives aro...</td>\n",
       "    </tr>\n",
       "  </tbody>\n",
       "</table>\n",
       "</div>"
      ],
      "text/plain": [
       "  label                                            message\n",
       "0   ham  Go until jurong point, crazy.. Available only ...\n",
       "1   ham                      Ok lar... Joking wif u oni...\n",
       "2  spam  Free entry in 2 a wkly comp to win FA Cup fina...\n",
       "3   ham  U dun say so early hor... U c already then say...\n",
       "4   ham  Nah I don't think he goes to usf, he lives aro..."
      ]
     },
     "execution_count": 7,
     "metadata": {},
     "output_type": "execute_result"
    }
   ],
   "source": [
    "df = df.rename(columns = {'v1':'label' , 'v2':'message'})\n",
    "df.head()"
   ]
  },
  {
   "cell_type": "code",
   "execution_count": 8,
   "id": "9c943440-fb72-46e9-81d5-c951b889bf39",
   "metadata": {},
   "outputs": [
    {
     "data": {
      "text/plain": [
       "label      0\n",
       "message    0\n",
       "dtype: int64"
      ]
     },
     "execution_count": 8,
     "metadata": {},
     "output_type": "execute_result"
    }
   ],
   "source": [
    "df.isnull().sum()"
   ]
  },
  {
   "cell_type": "code",
   "execution_count": 9,
   "id": "eac439d1-479b-4dc4-aa1c-5ddffd5e8c6a",
   "metadata": {},
   "outputs": [
    {
     "data": {
      "text/plain": [
       "ham     4825\n",
       "spam     747\n",
       "Name: label, dtype: int64"
      ]
     },
     "execution_count": 9,
     "metadata": {},
     "output_type": "execute_result"
    }
   ],
   "source": [
    "df.label.value_counts()"
   ]
  },
  {
   "cell_type": "markdown",
   "id": "14f3ac34-e987-4ca8-9bd0-46aa9d8e6afb",
   "metadata": {},
   "source": [
    "# Categoric into Numeric"
   ]
  },
  {
   "cell_type": "markdown",
   "id": "2359b7c2-66c6-4075-a144-64e1a570ba9a",
   "metadata": {},
   "source": [
    "spam = 0\n",
    "\n",
    "ham = 1"
   ]
  },
  {
   "cell_type": "code",
   "execution_count": 10,
   "id": "ee8f5ff0-da31-4035-8338-1c39f068e9f4",
   "metadata": {},
   "outputs": [],
   "source": [
    "df.label.replace({'spam':0 , 'ham':1},inplace = True) "
   ]
  },
  {
   "cell_type": "code",
   "execution_count": 11,
   "id": "38aa3b74-9638-4046-a1b8-ccfd41216c4b",
   "metadata": {},
   "outputs": [
    {
     "data": {
      "text/plain": [
       "1    4825\n",
       "0     747\n",
       "Name: label, dtype: int64"
      ]
     },
     "execution_count": 11,
     "metadata": {},
     "output_type": "execute_result"
    }
   ],
   "source": [
    "df.label.value_counts()"
   ]
  },
  {
   "cell_type": "code",
   "execution_count": 12,
   "id": "c54053cc-b4e0-4bc6-8a28-da4bf07a1572",
   "metadata": {},
   "outputs": [
    {
     "data": {
      "text/html": [
       "<div>\n",
       "<style scoped>\n",
       "    .dataframe tbody tr th:only-of-type {\n",
       "        vertical-align: middle;\n",
       "    }\n",
       "\n",
       "    .dataframe tbody tr th {\n",
       "        vertical-align: top;\n",
       "    }\n",
       "\n",
       "    .dataframe thead th {\n",
       "        text-align: right;\n",
       "    }\n",
       "</style>\n",
       "<table border=\"1\" class=\"dataframe\">\n",
       "  <thead>\n",
       "    <tr style=\"text-align: right;\">\n",
       "      <th></th>\n",
       "      <th>label</th>\n",
       "      <th>message</th>\n",
       "    </tr>\n",
       "  </thead>\n",
       "  <tbody>\n",
       "    <tr>\n",
       "      <th>0</th>\n",
       "      <td>1</td>\n",
       "      <td>go until jurong point, crazy.. available only ...</td>\n",
       "    </tr>\n",
       "    <tr>\n",
       "      <th>1</th>\n",
       "      <td>1</td>\n",
       "      <td>ok lar... joking wif u oni...</td>\n",
       "    </tr>\n",
       "    <tr>\n",
       "      <th>2</th>\n",
       "      <td>0</td>\n",
       "      <td>free entry in 2 a wkly comp to win fa cup fina...</td>\n",
       "    </tr>\n",
       "    <tr>\n",
       "      <th>3</th>\n",
       "      <td>1</td>\n",
       "      <td>u dun say so early hor... u c already then say...</td>\n",
       "    </tr>\n",
       "    <tr>\n",
       "      <th>4</th>\n",
       "      <td>1</td>\n",
       "      <td>nah i don't think he goes to usf, he lives aro...</td>\n",
       "    </tr>\n",
       "  </tbody>\n",
       "</table>\n",
       "</div>"
      ],
      "text/plain": [
       "   label                                            message\n",
       "0      1  go until jurong point, crazy.. available only ...\n",
       "1      1                      ok lar... joking wif u oni...\n",
       "2      0  free entry in 2 a wkly comp to win fa cup fina...\n",
       "3      1  u dun say so early hor... u c already then say...\n",
       "4      1  nah i don't think he goes to usf, he lives aro..."
      ]
     },
     "execution_count": 12,
     "metadata": {},
     "output_type": "execute_result"
    }
   ],
   "source": [
    "# data preparation starts now\n",
    "df.message = df.message.str.lower()\n",
    "df.head()"
   ]
  },
  {
   "cell_type": "code",
   "execution_count": 13,
   "id": "777ffa43-3768-4109-ba3b-6989c61e43b4",
   "metadata": {},
   "outputs": [],
   "source": [
    "import nltk"
   ]
  },
  {
   "cell_type": "code",
   "execution_count": 14,
   "id": "613e36b4-dc6c-4890-951c-bb488f33f182",
   "metadata": {},
   "outputs": [
    {
     "name": "stderr",
     "output_type": "stream",
     "text": [
      "[nltk_data] Downloading package stopwords to\n",
      "[nltk_data]     C:\\Users\\Asus\\AppData\\Roaming\\nltk_data...\n",
      "[nltk_data]   Package stopwords is already up-to-date!\n"
     ]
    },
    {
     "data": {
      "text/plain": [
       "True"
      ]
     },
     "execution_count": 14,
     "metadata": {},
     "output_type": "execute_result"
    }
   ],
   "source": [
    "from nltk.corpus import stopwords\n",
    "nltk.download('stopwords')"
   ]
  },
  {
   "cell_type": "code",
   "execution_count": 15,
   "id": "5e99a7ea-8124-4b04-b705-5f2cab2b4087",
   "metadata": {
    "tags": []
   },
   "outputs": [
    {
     "data": {
      "text/plain": [
       "['i',\n",
       " 'me',\n",
       " 'my',\n",
       " 'myself',\n",
       " 'we',\n",
       " 'our',\n",
       " 'ours',\n",
       " 'ourselves',\n",
       " 'you',\n",
       " \"you're\",\n",
       " \"you've\",\n",
       " \"you'll\",\n",
       " \"you'd\",\n",
       " 'your',\n",
       " 'yours',\n",
       " 'yourself',\n",
       " 'yourselves',\n",
       " 'he',\n",
       " 'him',\n",
       " 'his',\n",
       " 'himself',\n",
       " 'she',\n",
       " \"she's\",\n",
       " 'her',\n",
       " 'hers',\n",
       " 'herself',\n",
       " 'it',\n",
       " \"it's\",\n",
       " 'its',\n",
       " 'itself',\n",
       " 'they',\n",
       " 'them',\n",
       " 'their',\n",
       " 'theirs',\n",
       " 'themselves',\n",
       " 'what',\n",
       " 'which',\n",
       " 'who',\n",
       " 'whom',\n",
       " 'this',\n",
       " 'that',\n",
       " \"that'll\",\n",
       " 'these',\n",
       " 'those',\n",
       " 'am',\n",
       " 'is',\n",
       " 'are',\n",
       " 'was',\n",
       " 'were',\n",
       " 'be',\n",
       " 'been',\n",
       " 'being',\n",
       " 'have',\n",
       " 'has',\n",
       " 'had',\n",
       " 'having',\n",
       " 'do',\n",
       " 'does',\n",
       " 'did',\n",
       " 'doing',\n",
       " 'a',\n",
       " 'an',\n",
       " 'the',\n",
       " 'and',\n",
       " 'but',\n",
       " 'if',\n",
       " 'or',\n",
       " 'because',\n",
       " 'as',\n",
       " 'until',\n",
       " 'while',\n",
       " 'of',\n",
       " 'at',\n",
       " 'by',\n",
       " 'for',\n",
       " 'with',\n",
       " 'about',\n",
       " 'against',\n",
       " 'between',\n",
       " 'into',\n",
       " 'through',\n",
       " 'during',\n",
       " 'before',\n",
       " 'after',\n",
       " 'above',\n",
       " 'below',\n",
       " 'to',\n",
       " 'from',\n",
       " 'up',\n",
       " 'down',\n",
       " 'in',\n",
       " 'out',\n",
       " 'on',\n",
       " 'off',\n",
       " 'over',\n",
       " 'under',\n",
       " 'again',\n",
       " 'further',\n",
       " 'then',\n",
       " 'once',\n",
       " 'here',\n",
       " 'there',\n",
       " 'when',\n",
       " 'where',\n",
       " 'why',\n",
       " 'how',\n",
       " 'all',\n",
       " 'any',\n",
       " 'both',\n",
       " 'each',\n",
       " 'few',\n",
       " 'more',\n",
       " 'most',\n",
       " 'other',\n",
       " 'some',\n",
       " 'such',\n",
       " 'no',\n",
       " 'nor',\n",
       " 'not',\n",
       " 'only',\n",
       " 'own',\n",
       " 'same',\n",
       " 'so',\n",
       " 'than',\n",
       " 'too',\n",
       " 'very',\n",
       " 's',\n",
       " 't',\n",
       " 'can',\n",
       " 'will',\n",
       " 'just',\n",
       " 'don',\n",
       " \"don't\",\n",
       " 'should',\n",
       " \"should've\",\n",
       " 'now',\n",
       " 'd',\n",
       " 'll',\n",
       " 'm',\n",
       " 'o',\n",
       " 're',\n",
       " 've',\n",
       " 'y',\n",
       " 'ain',\n",
       " 'aren',\n",
       " \"aren't\",\n",
       " 'couldn',\n",
       " \"couldn't\",\n",
       " 'didn',\n",
       " \"didn't\",\n",
       " 'doesn',\n",
       " \"doesn't\",\n",
       " 'hadn',\n",
       " \"hadn't\",\n",
       " 'hasn',\n",
       " \"hasn't\",\n",
       " 'haven',\n",
       " \"haven't\",\n",
       " 'isn',\n",
       " \"isn't\",\n",
       " 'ma',\n",
       " 'mightn',\n",
       " \"mightn't\",\n",
       " 'mustn',\n",
       " \"mustn't\",\n",
       " 'needn',\n",
       " \"needn't\",\n",
       " 'shan',\n",
       " \"shan't\",\n",
       " 'shouldn',\n",
       " \"shouldn't\",\n",
       " 'wasn',\n",
       " \"wasn't\",\n",
       " 'weren',\n",
       " \"weren't\",\n",
       " 'won',\n",
       " \"won't\",\n",
       " 'wouldn',\n",
       " \"wouldn't\"]"
      ]
     },
     "execution_count": 15,
     "metadata": {},
     "output_type": "execute_result"
    }
   ],
   "source": [
    "stopwords.words('english')"
   ]
  },
  {
   "cell_type": "code",
   "execution_count": 16,
   "id": "d2d4e1b7-9a1f-4fef-8eb2-3d924f943f55",
   "metadata": {},
   "outputs": [
    {
     "data": {
      "text/plain": [
       "179"
      ]
     },
     "execution_count": 16,
     "metadata": {},
     "output_type": "execute_result"
    }
   ],
   "source": [
    "len(stopwords.words('english'))"
   ]
  },
  {
   "cell_type": "code",
   "execution_count": 17,
   "id": "e953f1f3-520e-4cf7-ad64-9c929aa6c10e",
   "metadata": {},
   "outputs": [
    {
     "data": {
      "text/plain": [
       "'!\"#$%&\\'()*+,-./:;<=>?@[\\\\]^_`{|}~'"
      ]
     },
     "execution_count": 17,
     "metadata": {},
     "output_type": "execute_result"
    }
   ],
   "source": [
    "import string\n",
    "string.punctuation  # only a special characters"
   ]
  },
  {
   "cell_type": "markdown",
   "id": "ee819387-6b8f-4ec1-86e1-678e77a2e2ec",
   "metadata": {},
   "source": [
    "#### I will remove the stopwords , punctuation , tokenization (assign id to each word)\n",
    "\n",
    "#### create a TDM the do sampling build the model do the prediction"
   ]
  },
  {
   "cell_type": "code",
   "execution_count": 18,
   "id": "29404537-2f0c-47db-896c-6e2fa0dab57d",
   "metadata": {},
   "outputs": [],
   "source": [
    "def text_process(mess):\n",
    "    '''\n",
    "    1. remove the punctuation\n",
    "    2. remove the stopwords\n",
    "    3. return the list of clean textwords\n",
    "    \n",
    "    '''\n",
    "    nopunc = [char for char in mess if char not in string.punctuation]\n",
    "    nopunc =  ''.join(nopunc)\n",
    "    return[word for word in nopunc.split() if word not in stopwords.words('english')]"
   ]
  },
  {
   "cell_type": "code",
   "execution_count": 19,
   "id": "49cc7309-ccb0-4b9f-a174-b339fa1a4c63",
   "metadata": {},
   "outputs": [
    {
     "data": {
      "text/plain": [
       "0       [go, jurong, point, crazy, available, bugis, n...\n",
       "1                          [ok, lar, joking, wif, u, oni]\n",
       "2       [free, entry, 2, wkly, comp, win, fa, cup, fin...\n",
       "3           [u, dun, say, early, hor, u, c, already, say]\n",
       "4       [nah, dont, think, goes, usf, lives, around, t...\n",
       "                              ...                        \n",
       "5567    [2nd, time, tried, 2, contact, u, u, å£750, po...\n",
       "5568                   [ì, b, going, esplanade, fr, home]\n",
       "5569                     [pity, mood, soany, suggestions]\n",
       "5570    [guy, bitching, acted, like, id, interested, b...\n",
       "5571                                   [rofl, true, name]\n",
       "Name: message, Length: 5572, dtype: object"
      ]
     },
     "execution_count": 19,
     "metadata": {},
     "output_type": "execute_result"
    }
   ],
   "source": [
    "df.message.apply(text_process) # it is not save"
   ]
  },
  {
   "cell_type": "markdown",
   "id": "c2c5fdb3-f174-4789-8640-1b6de3efc7bd",
   "metadata": {
    "tags": []
   },
   "source": [
    "#### to save the changes I use count vectorizer and save it to our new variable\n",
    "#### countvectorizer tells hows many time my words is repeating in the dataset"
   ]
  },
  {
   "cell_type": "code",
   "execution_count": 20,
   "id": "c4944d1a-833a-42c5-bf58-cbb1930b500d",
   "metadata": {
    "tags": []
   },
   "outputs": [
    {
     "data": {
      "application/javascript": [
       "\n",
       "        if (window._pyforest_update_imports_cell) { window._pyforest_update_imports_cell('from sklearn.feature_extraction.text import CountVectorizer'); }\n",
       "    "
      ],
      "text/plain": [
       "<IPython.core.display.Javascript object>"
      ]
     },
     "metadata": {},
     "output_type": "display_data"
    }
   ],
   "source": [
    "after_transformation = CountVectorizer(analyzer = text_process).fit(df['message'])\n",
    "after_transformation.vocabulary"
   ]
  },
  {
   "cell_type": "code",
   "execution_count": 21,
   "id": "80b94ce9-eeb7-4939-88bb-e03d337718c8",
   "metadata": {},
   "outputs": [
    {
     "data": {
      "text/plain": [
       "9431"
      ]
     },
     "execution_count": 21,
     "metadata": {},
     "output_type": "execute_result"
    }
   ],
   "source": [
    "len(after_transformation.vocabulary_)"
   ]
  },
  {
   "cell_type": "code",
   "execution_count": 22,
   "id": "517e5e64-df10-4208-99dd-e826f749a64c",
   "metadata": {},
   "outputs": [
    {
     "data": {
      "text/plain": [
       "<5572x9431 sparse matrix of type '<class 'numpy.int64'>'\n",
       "\twith 49772 stored elements in Compressed Sparse Row format>"
      ]
     },
     "execution_count": 22,
     "metadata": {},
     "output_type": "execute_result"
    }
   ],
   "source": [
    "tdm_spamdata = after_transformation.transform(df['message'])\n",
    "tdm_spamdata # TDM will act as my X values"
   ]
  },
  {
   "cell_type": "code",
   "execution_count": 23,
   "id": "52b10bf5-309e-4e48-ab04-369bb3ae2d86",
   "metadata": {},
   "outputs": [
    {
     "data": {
      "text/plain": [
       "scipy.sparse.csr.csr_matrix"
      ]
     },
     "execution_count": 23,
     "metadata": {},
     "output_type": "execute_result"
    }
   ],
   "source": [
    "type(tdm_spamdata)"
   ]
  },
  {
   "cell_type": "code",
   "execution_count": 24,
   "id": "51a3e4f7-c3d4-428a-b3ec-0c0b54fb7d0b",
   "metadata": {},
   "outputs": [
    {
     "data": {
      "text/plain": [
       "(5572, 9431)"
      ]
     },
     "execution_count": 24,
     "metadata": {},
     "output_type": "execute_result"
    }
   ],
   "source": [
    "tdm_spamdata.shape"
   ]
  },
  {
   "cell_type": "code",
   "execution_count": 25,
   "id": "b89fadf1-728a-4459-b250-ebc635aee2f9",
   "metadata": {},
   "outputs": [
    {
     "data": {
      "text/plain": [
       "array([[0, 0, 0, ..., 0, 0, 0],\n",
       "       [0, 0, 0, ..., 0, 0, 0],\n",
       "       [0, 0, 0, ..., 0, 0, 0],\n",
       "       ...,\n",
       "       [0, 0, 0, ..., 0, 0, 0],\n",
       "       [0, 0, 0, ..., 0, 0, 0],\n",
       "       [0, 0, 0, ..., 0, 0, 0]], dtype=int64)"
      ]
     },
     "execution_count": 25,
     "metadata": {},
     "output_type": "execute_result"
    }
   ],
   "source": [
    "abc = tdm_spamdata.toarray()\n",
    "abc"
   ]
  },
  {
   "cell_type": "code",
   "execution_count": 26,
   "id": "38958df8-2004-4b00-9687-a896196044ed",
   "metadata": {
    "tags": []
   },
   "outputs": [
    {
     "data": {
      "text/html": [
       "<div>\n",
       "<style scoped>\n",
       "    .dataframe tbody tr th:only-of-type {\n",
       "        vertical-align: middle;\n",
       "    }\n",
       "\n",
       "    .dataframe tbody tr th {\n",
       "        vertical-align: top;\n",
       "    }\n",
       "\n",
       "    .dataframe thead th {\n",
       "        text-align: right;\n",
       "    }\n",
       "</style>\n",
       "<table border=\"1\" class=\"dataframe\">\n",
       "  <thead>\n",
       "    <tr style=\"text-align: right;\">\n",
       "      <th></th>\n",
       "      <th>0</th>\n",
       "      <th>1</th>\n",
       "      <th>2</th>\n",
       "      <th>3</th>\n",
       "      <th>4</th>\n",
       "      <th>5</th>\n",
       "      <th>6</th>\n",
       "      <th>7</th>\n",
       "      <th>8</th>\n",
       "      <th>9</th>\n",
       "      <th>...</th>\n",
       "      <th>9421</th>\n",
       "      <th>9422</th>\n",
       "      <th>9423</th>\n",
       "      <th>9424</th>\n",
       "      <th>9425</th>\n",
       "      <th>9426</th>\n",
       "      <th>9427</th>\n",
       "      <th>9428</th>\n",
       "      <th>9429</th>\n",
       "      <th>9430</th>\n",
       "    </tr>\n",
       "  </thead>\n",
       "  <tbody>\n",
       "    <tr>\n",
       "      <th>0</th>\n",
       "      <td>0</td>\n",
       "      <td>0</td>\n",
       "      <td>0</td>\n",
       "      <td>0</td>\n",
       "      <td>0</td>\n",
       "      <td>0</td>\n",
       "      <td>0</td>\n",
       "      <td>0</td>\n",
       "      <td>0</td>\n",
       "      <td>0</td>\n",
       "      <td>...</td>\n",
       "      <td>0</td>\n",
       "      <td>0</td>\n",
       "      <td>0</td>\n",
       "      <td>0</td>\n",
       "      <td>0</td>\n",
       "      <td>0</td>\n",
       "      <td>0</td>\n",
       "      <td>0</td>\n",
       "      <td>0</td>\n",
       "      <td>0</td>\n",
       "    </tr>\n",
       "    <tr>\n",
       "      <th>1</th>\n",
       "      <td>0</td>\n",
       "      <td>0</td>\n",
       "      <td>0</td>\n",
       "      <td>0</td>\n",
       "      <td>0</td>\n",
       "      <td>0</td>\n",
       "      <td>0</td>\n",
       "      <td>0</td>\n",
       "      <td>0</td>\n",
       "      <td>0</td>\n",
       "      <td>...</td>\n",
       "      <td>0</td>\n",
       "      <td>0</td>\n",
       "      <td>0</td>\n",
       "      <td>0</td>\n",
       "      <td>0</td>\n",
       "      <td>0</td>\n",
       "      <td>0</td>\n",
       "      <td>0</td>\n",
       "      <td>0</td>\n",
       "      <td>0</td>\n",
       "    </tr>\n",
       "    <tr>\n",
       "      <th>2</th>\n",
       "      <td>0</td>\n",
       "      <td>0</td>\n",
       "      <td>0</td>\n",
       "      <td>0</td>\n",
       "      <td>0</td>\n",
       "      <td>0</td>\n",
       "      <td>0</td>\n",
       "      <td>0</td>\n",
       "      <td>0</td>\n",
       "      <td>0</td>\n",
       "      <td>...</td>\n",
       "      <td>0</td>\n",
       "      <td>0</td>\n",
       "      <td>0</td>\n",
       "      <td>0</td>\n",
       "      <td>0</td>\n",
       "      <td>0</td>\n",
       "      <td>0</td>\n",
       "      <td>0</td>\n",
       "      <td>0</td>\n",
       "      <td>0</td>\n",
       "    </tr>\n",
       "    <tr>\n",
       "      <th>3</th>\n",
       "      <td>0</td>\n",
       "      <td>0</td>\n",
       "      <td>0</td>\n",
       "      <td>0</td>\n",
       "      <td>0</td>\n",
       "      <td>0</td>\n",
       "      <td>0</td>\n",
       "      <td>0</td>\n",
       "      <td>0</td>\n",
       "      <td>0</td>\n",
       "      <td>...</td>\n",
       "      <td>0</td>\n",
       "      <td>0</td>\n",
       "      <td>0</td>\n",
       "      <td>0</td>\n",
       "      <td>0</td>\n",
       "      <td>0</td>\n",
       "      <td>0</td>\n",
       "      <td>0</td>\n",
       "      <td>0</td>\n",
       "      <td>0</td>\n",
       "    </tr>\n",
       "    <tr>\n",
       "      <th>4</th>\n",
       "      <td>0</td>\n",
       "      <td>0</td>\n",
       "      <td>0</td>\n",
       "      <td>0</td>\n",
       "      <td>0</td>\n",
       "      <td>0</td>\n",
       "      <td>0</td>\n",
       "      <td>0</td>\n",
       "      <td>0</td>\n",
       "      <td>0</td>\n",
       "      <td>...</td>\n",
       "      <td>0</td>\n",
       "      <td>0</td>\n",
       "      <td>0</td>\n",
       "      <td>0</td>\n",
       "      <td>0</td>\n",
       "      <td>0</td>\n",
       "      <td>0</td>\n",
       "      <td>0</td>\n",
       "      <td>0</td>\n",
       "      <td>0</td>\n",
       "    </tr>\n",
       "    <tr>\n",
       "      <th>...</th>\n",
       "      <td>...</td>\n",
       "      <td>...</td>\n",
       "      <td>...</td>\n",
       "      <td>...</td>\n",
       "      <td>...</td>\n",
       "      <td>...</td>\n",
       "      <td>...</td>\n",
       "      <td>...</td>\n",
       "      <td>...</td>\n",
       "      <td>...</td>\n",
       "      <td>...</td>\n",
       "      <td>...</td>\n",
       "      <td>...</td>\n",
       "      <td>...</td>\n",
       "      <td>...</td>\n",
       "      <td>...</td>\n",
       "      <td>...</td>\n",
       "      <td>...</td>\n",
       "      <td>...</td>\n",
       "      <td>...</td>\n",
       "      <td>...</td>\n",
       "    </tr>\n",
       "    <tr>\n",
       "      <th>5567</th>\n",
       "      <td>0</td>\n",
       "      <td>0</td>\n",
       "      <td>0</td>\n",
       "      <td>0</td>\n",
       "      <td>0</td>\n",
       "      <td>0</td>\n",
       "      <td>0</td>\n",
       "      <td>0</td>\n",
       "      <td>0</td>\n",
       "      <td>0</td>\n",
       "      <td>...</td>\n",
       "      <td>0</td>\n",
       "      <td>0</td>\n",
       "      <td>0</td>\n",
       "      <td>0</td>\n",
       "      <td>0</td>\n",
       "      <td>0</td>\n",
       "      <td>0</td>\n",
       "      <td>0</td>\n",
       "      <td>0</td>\n",
       "      <td>0</td>\n",
       "    </tr>\n",
       "    <tr>\n",
       "      <th>5568</th>\n",
       "      <td>0</td>\n",
       "      <td>0</td>\n",
       "      <td>0</td>\n",
       "      <td>0</td>\n",
       "      <td>0</td>\n",
       "      <td>0</td>\n",
       "      <td>0</td>\n",
       "      <td>0</td>\n",
       "      <td>0</td>\n",
       "      <td>0</td>\n",
       "      <td>...</td>\n",
       "      <td>1</td>\n",
       "      <td>0</td>\n",
       "      <td>0</td>\n",
       "      <td>0</td>\n",
       "      <td>0</td>\n",
       "      <td>0</td>\n",
       "      <td>0</td>\n",
       "      <td>0</td>\n",
       "      <td>0</td>\n",
       "      <td>0</td>\n",
       "    </tr>\n",
       "    <tr>\n",
       "      <th>5569</th>\n",
       "      <td>0</td>\n",
       "      <td>0</td>\n",
       "      <td>0</td>\n",
       "      <td>0</td>\n",
       "      <td>0</td>\n",
       "      <td>0</td>\n",
       "      <td>0</td>\n",
       "      <td>0</td>\n",
       "      <td>0</td>\n",
       "      <td>0</td>\n",
       "      <td>...</td>\n",
       "      <td>0</td>\n",
       "      <td>0</td>\n",
       "      <td>0</td>\n",
       "      <td>0</td>\n",
       "      <td>0</td>\n",
       "      <td>0</td>\n",
       "      <td>0</td>\n",
       "      <td>0</td>\n",
       "      <td>0</td>\n",
       "      <td>0</td>\n",
       "    </tr>\n",
       "    <tr>\n",
       "      <th>5570</th>\n",
       "      <td>0</td>\n",
       "      <td>0</td>\n",
       "      <td>0</td>\n",
       "      <td>0</td>\n",
       "      <td>0</td>\n",
       "      <td>0</td>\n",
       "      <td>0</td>\n",
       "      <td>0</td>\n",
       "      <td>0</td>\n",
       "      <td>0</td>\n",
       "      <td>...</td>\n",
       "      <td>0</td>\n",
       "      <td>0</td>\n",
       "      <td>0</td>\n",
       "      <td>0</td>\n",
       "      <td>0</td>\n",
       "      <td>0</td>\n",
       "      <td>0</td>\n",
       "      <td>0</td>\n",
       "      <td>0</td>\n",
       "      <td>0</td>\n",
       "    </tr>\n",
       "    <tr>\n",
       "      <th>5571</th>\n",
       "      <td>0</td>\n",
       "      <td>0</td>\n",
       "      <td>0</td>\n",
       "      <td>0</td>\n",
       "      <td>0</td>\n",
       "      <td>0</td>\n",
       "      <td>0</td>\n",
       "      <td>0</td>\n",
       "      <td>0</td>\n",
       "      <td>0</td>\n",
       "      <td>...</td>\n",
       "      <td>0</td>\n",
       "      <td>0</td>\n",
       "      <td>0</td>\n",
       "      <td>0</td>\n",
       "      <td>0</td>\n",
       "      <td>0</td>\n",
       "      <td>0</td>\n",
       "      <td>0</td>\n",
       "      <td>0</td>\n",
       "      <td>0</td>\n",
       "    </tr>\n",
       "  </tbody>\n",
       "</table>\n",
       "<p>5572 rows × 9431 columns</p>\n",
       "</div>"
      ],
      "text/plain": [
       "      0     1     2     3     4     5     6     7     8     9     ...  9421  \\\n",
       "0        0     0     0     0     0     0     0     0     0     0  ...     0   \n",
       "1        0     0     0     0     0     0     0     0     0     0  ...     0   \n",
       "2        0     0     0     0     0     0     0     0     0     0  ...     0   \n",
       "3        0     0     0     0     0     0     0     0     0     0  ...     0   \n",
       "4        0     0     0     0     0     0     0     0     0     0  ...     0   \n",
       "...    ...   ...   ...   ...   ...   ...   ...   ...   ...   ...  ...   ...   \n",
       "5567     0     0     0     0     0     0     0     0     0     0  ...     0   \n",
       "5568     0     0     0     0     0     0     0     0     0     0  ...     1   \n",
       "5569     0     0     0     0     0     0     0     0     0     0  ...     0   \n",
       "5570     0     0     0     0     0     0     0     0     0     0  ...     0   \n",
       "5571     0     0     0     0     0     0     0     0     0     0  ...     0   \n",
       "\n",
       "      9422  9423  9424  9425  9426  9427  9428  9429  9430  \n",
       "0        0     0     0     0     0     0     0     0     0  \n",
       "1        0     0     0     0     0     0     0     0     0  \n",
       "2        0     0     0     0     0     0     0     0     0  \n",
       "3        0     0     0     0     0     0     0     0     0  \n",
       "4        0     0     0     0     0     0     0     0     0  \n",
       "...    ...   ...   ...   ...   ...   ...   ...   ...   ...  \n",
       "5567     0     0     0     0     0     0     0     0     0  \n",
       "5568     0     0     0     0     0     0     0     0     0  \n",
       "5569     0     0     0     0     0     0     0     0     0  \n",
       "5570     0     0     0     0     0     0     0     0     0  \n",
       "5571     0     0     0     0     0     0     0     0     0  \n",
       "\n",
       "[5572 rows x 9431 columns]"
      ]
     },
     "execution_count": 26,
     "metadata": {},
     "output_type": "execute_result"
    }
   ],
   "source": [
    "df1 = pd.DataFrame(abc)\n",
    "df1  # 0 and 1"
   ]
  },
  {
   "cell_type": "code",
   "execution_count": 27,
   "id": "fbcd865a-d60e-4a81-bf66-fc5922ae93b6",
   "metadata": {},
   "outputs": [],
   "source": [
    "from sklearn.model_selection import train_test_split\n",
    "train_X , test_X , train_y , test_y = train_test_split(tdm_spamdata , df.label , test_size=.2)"
   ]
  },
  {
   "cell_type": "code",
   "execution_count": 28,
   "id": "f76f1502-4a4e-4e26-93c8-de1e61943819",
   "metadata": {},
   "outputs": [
    {
     "data": {
      "text/plain": [
       "(4457, 9431)"
      ]
     },
     "execution_count": 28,
     "metadata": {},
     "output_type": "execute_result"
    }
   ],
   "source": [
    "train_X.shape"
   ]
  },
  {
   "cell_type": "code",
   "execution_count": 29,
   "id": "93aaab1f-304e-47dd-b92b-207af27dd7b3",
   "metadata": {},
   "outputs": [
    {
     "data": {
      "text/plain": [
       "(1115, 9431)"
      ]
     },
     "execution_count": 29,
     "metadata": {},
     "output_type": "execute_result"
    }
   ],
   "source": [
    "test_X.shape"
   ]
  },
  {
   "cell_type": "markdown",
   "id": "8e851e38-1091-4d2e-8901-342a53e92195",
   "metadata": {},
   "source": [
    "# Model Building  "
   ]
  },
  {
   "cell_type": "markdown",
   "id": "497bb50f-fefc-40cc-a034-ad749b8fb02c",
   "metadata": {},
   "source": [
    "#### some rules\n",
    "##### Accuracy : higher the accuracy better the model\n",
    "##### TPR(recalll) : higher the recall better the model\n",
    "##### FPR lower the fpr better the model\n",
    "##### Precision : higher the precision better the model\n",
    "##### F1 : Higher the F! better the model"
   ]
  },
  {
   "cell_type": "code",
   "execution_count": 30,
   "id": "ef0c0f25-d81f-45cb-a1ba-0444350c52fb",
   "metadata": {},
   "outputs": [
    {
     "data": {
      "text/plain": [
       "1    4825\n",
       "0     747\n",
       "Name: label, dtype: int64"
      ]
     },
     "execution_count": 30,
     "metadata": {},
     "output_type": "execute_result"
    }
   ],
   "source": [
    "df.label.value_counts()"
   ]
  },
  {
   "cell_type": "markdown",
   "id": "288eb1a9-b5ce-4cf2-b5ca-6f667d491e02",
   "metadata": {},
   "source": [
    "As I can see that this data is huge imbalanced so I need to balanced the data with the help of stratified sampling . I can use under or oversampling also but I can see that the data of 0 and 1 is approx 1:7 Ratio "
   ]
  },
  {
   "cell_type": "code",
   "execution_count": 31,
   "id": "089195b2-7370-4e9d-afcb-e1b114468db0",
   "metadata": {},
   "outputs": [
    {
     "data": {
      "text/plain": [
       "0.13406317300789664"
      ]
     },
     "execution_count": 31,
     "metadata": {},
     "output_type": "execute_result"
    }
   ],
   "source": [
    "747/(4825+747)"
   ]
  },
  {
   "cell_type": "code",
   "execution_count": 32,
   "id": "ff1a45d0-d9e6-4eec-b3cb-e4a21a80939b",
   "metadata": {},
   "outputs": [
    {
     "data": {
      "text/plain": [
       "0.8659368269921034"
      ]
     },
     "execution_count": 32,
     "metadata": {},
     "output_type": "execute_result"
    }
   ],
   "source": [
    "1-0.13406317300789664"
   ]
  },
  {
   "cell_type": "code",
   "execution_count": 33,
   "id": "1019ddef-615e-4449-88c3-999bb4d9d532",
   "metadata": {},
   "outputs": [
    {
     "data": {
      "text/plain": [
       "6.459170013386881"
      ]
     },
     "execution_count": 33,
     "metadata": {},
     "output_type": "execute_result"
    }
   ],
   "source": [
    "4825/747"
   ]
  },
  {
   "cell_type": "code",
   "execution_count": 34,
   "id": "aec718dd-ca21-449b-95d8-5839f0ba5c88",
   "metadata": {},
   "outputs": [],
   "source": [
    "from sklearn.model_selection import train_test_split\n",
    "train_X , test_X , train_y , test_y = train_test_split(tdm_spamdata , df.label ,stratify=df.label, test_size=.2)"
   ]
  },
  {
   "cell_type": "code",
   "execution_count": 35,
   "id": "558e38d1-11ae-435d-956f-a1b1db240fc6",
   "metadata": {},
   "outputs": [
    {
     "data": {
      "text/plain": [
       "(4457, 9431)"
      ]
     },
     "execution_count": 35,
     "metadata": {},
     "output_type": "execute_result"
    }
   ],
   "source": [
    "train_X.shape"
   ]
  },
  {
   "cell_type": "code",
   "execution_count": 36,
   "id": "43553611-12d6-430d-bea1-328a6007314e",
   "metadata": {},
   "outputs": [
    {
     "data": {
      "text/plain": [
       "1    3859\n",
       "0     598\n",
       "Name: label, dtype: int64"
      ]
     },
     "execution_count": 36,
     "metadata": {},
     "output_type": "execute_result"
    }
   ],
   "source": [
    "train_y.value_counts()"
   ]
  },
  {
   "cell_type": "code",
   "execution_count": 37,
   "id": "d079e7c2-9df4-405a-a462-2227abc15af6",
   "metadata": {},
   "outputs": [
    {
     "data": {
      "text/plain": [
       "1    966\n",
       "0    149\n",
       "Name: label, dtype: int64"
      ]
     },
     "execution_count": 37,
     "metadata": {},
     "output_type": "execute_result"
    }
   ],
   "source": [
    "test_y.value_counts()"
   ]
  },
  {
   "cell_type": "code",
   "execution_count": 38,
   "id": "947fb3e0-ef60-41fa-acf3-1bdf2655859b",
   "metadata": {},
   "outputs": [
    {
     "data": {
      "text/plain": [
       "0.1549624254988339"
      ]
     },
     "execution_count": 38,
     "metadata": {},
     "output_type": "execute_result"
    }
   ],
   "source": [
    "598/3859"
   ]
  },
  {
   "cell_type": "code",
   "execution_count": 39,
   "id": "8f3c3380-5a0f-4f8e-b2a1-dab234cecd68",
   "metadata": {},
   "outputs": [
    {
     "data": {
      "text/plain": [
       "0.15424430641821946"
      ]
     },
     "execution_count": 39,
     "metadata": {},
     "output_type": "execute_result"
    }
   ],
   "source": [
    "149/966"
   ]
  },
  {
   "cell_type": "markdown",
   "id": "32471011-58aa-4a2f-a0a8-7738e487e561",
   "metadata": {},
   "source": [
    "#### so I can see that ratio between 1 and 0 in train_y and test_y is same ..it means the problem of data imbalanced is solved now"
   ]
  },
  {
   "cell_type": "markdown",
   "id": "dc2dc1c6-c484-430f-ba76-6746951ce9a7",
   "metadata": {},
   "source": [
    "# Logistic Regression"
   ]
  },
  {
   "cell_type": "code",
   "execution_count": 40,
   "id": "5a1b2dae-c76d-48c7-9035-0b784a02b16a",
   "metadata": {},
   "outputs": [
    {
     "data": {
      "text/plain": [
       "array([[132,  17],\n",
       "       [  2, 964]], dtype=int64)"
      ]
     },
     "execution_count": 40,
     "metadata": {},
     "output_type": "execute_result"
    }
   ],
   "source": [
    "from sklearn.linear_model import LogisticRegression\n",
    "lr = LogisticRegression()\n",
    "lr.fit(train_X , train_y)\n",
    "pred_y = lr.predict(test_X)\n",
    "from sklearn.metrics import accuracy_score,precision_score ,roc_auc_score, recall_score , f1_score , confusion_matrix\n",
    "confusion_matrix(test_y , pred_y)"
   ]
  },
  {
   "cell_type": "code",
   "execution_count": 41,
   "id": "181c6ed2-bc78-47db-814e-7aa31b0a99ed",
   "metadata": {},
   "outputs": [
    {
     "name": "stdout",
     "output_type": "stream",
     "text": [
      "accuracy : 0.9829596412556054\n",
      "recall_score: 0.9979296066252588\n",
      "precision: 0.9826707441386341\n",
      "roc_curve: 0.9419178234468576\n",
      "f1_score: 0.990241397021058\n"
     ]
    }
   ],
   "source": [
    "v = accuracy_score(test_y , pred_y)\n",
    "w = recall_score(test_y , pred_y)\n",
    "x = precision_score(test_y , pred_y)\n",
    "y = roc_auc_score(test_y , pred_y)\n",
    "z = f1_score(test_y , pred_y)\n",
    "print('accuracy :',v)\n",
    "print('recall_score:',w)\n",
    "print('precision:',x)\n",
    "print('roc_curve:',y)\n",
    "print('f1_score:',z)"
   ]
  },
  {
   "cell_type": "code",
   "execution_count": 42,
   "id": "84b2ff6c-c202-498e-93a5-7f7b6abef575",
   "metadata": {},
   "outputs": [],
   "source": [
    "import seaborn as sns\n",
    "import matplotlib.pyplot as plt"
   ]
  },
  {
   "cell_type": "code",
   "execution_count": 43,
   "id": "7adb91d5-8101-41d3-8211-3a6f36698f1c",
   "metadata": {},
   "outputs": [
    {
     "name": "stdout",
     "output_type": "stream",
     "text": [
      "              precision    recall  f1-score   support\n",
      "\n",
      "           0       0.99      0.89      0.93       149\n",
      "           1       0.98      1.00      0.99       966\n",
      "\n",
      "    accuracy                           0.98      1115\n",
      "   macro avg       0.98      0.94      0.96      1115\n",
      "weighted avg       0.98      0.98      0.98      1115\n",
      "\n"
     ]
    },
    {
     "data": {
      "text/plain": [
       "<AxesSubplot:>"
      ]
     },
     "execution_count": 43,
     "metadata": {},
     "output_type": "execute_result"
    },
    {
     "data": {
      "image/png": "[encoded data removed]",
      "text/plain": [
       "<Figure size 432x288 with 2 Axes>"
      ]
     },
     "metadata": {
      "needs_background": "light"
     },
     "output_type": "display_data"
    }
   ],
   "source": [
    "from sklearn.metrics import classification_report\n",
    "print(classification_report(test_y , pred_y))\n",
    "sns.heatmap(confusion_matrix(test_y , pred_y) , \n",
    "            annot = True , fmt = 'd' , linecolor = 'k', linewidth = 3 )\n",
    "# line width = boundary of width\n",
    "# line color = color of boundary\n",
    "# fmt = 09.63+e**2 ko 963 me likhta hai"
   ]
  },
  {
   "cell_type": "code",
   "execution_count": 44,
   "id": "aec34ed3-81a7-4909-8841-563d8ef506ac",
   "metadata": {
    "tags": []
   },
   "outputs": [
    {
     "data": {
      "text/plain": [
       "GridSearchCV(estimator=LogisticRegression(),\n",
       "             param_grid={'penalty': ['elasticnet', 'l1', 'l2'],\n",
       "                         'solver': ['newton_cg', 'lbfgs', 'liblinear', 'sag',\n",
       "                                    'saga']})"
      ]
     },
     "execution_count": 44,
     "metadata": {},
     "output_type": "execute_result"
    }
   ],
   "source": [
    "# CROSS VALIDATION OF LOGISTIC REGRESSSION\n",
    "lr_grid = {'solver':['newton_cg','lbfgs','liblinear','sag','saga'],\n",
    "          'penalty':['elasticnet','l1','l2']}\n",
    "from sklearn.model_selection import GridSearchCV\n",
    "grid_lr = GridSearchCV(lr , param_grid = lr_grid)\n",
    "grid_lr.fit(train_X , train_y)"
   ]
  },
  {
   "cell_type": "code",
   "execution_count": 45,
   "id": "f02d8bcf-ef80-4ac4-af7e-3e2d0404c05f",
   "metadata": {},
   "outputs": [
    {
     "data": {
      "text/plain": [
       "{'penalty': 'l2', 'solver': 'liblinear'}"
      ]
     },
     "execution_count": 45,
     "metadata": {},
     "output_type": "execute_result"
    }
   ],
   "source": [
    "grid_lr.best_params_"
   ]
  },
  {
   "cell_type": "code",
   "execution_count": 46,
   "id": "832dff87-238b-487a-88e3-333ea24556f9",
   "metadata": {},
   "outputs": [
    {
     "data": {
      "text/plain": [
       "array([[132,  17],\n",
       "       [  3, 963]], dtype=int64)"
      ]
     },
     "execution_count": 46,
     "metadata": {},
     "output_type": "execute_result"
    }
   ],
   "source": [
    "lr = LogisticRegression(penalty = 'l2',solver = 'liblinear')\n",
    "lr.fit(train_X , train_y)\n",
    "pred_y = lr.predict(test_X)\n",
    "from sklearn.metrics import confusion_matrix , accuracy_score ,precision_score,roc_auc_score,f1_score,recall_score\n",
    "confusion_matrix(test_y , pred_y)"
   ]
  },
  {
   "cell_type": "code",
   "execution_count": 47,
   "id": "53fc7dce-dc46-4902-bc37-3d817309107c",
   "metadata": {},
   "outputs": [
    {
     "name": "stdout",
     "output_type": "stream",
     "text": [
      "accuracy : 0.9820627802690582\n",
      "recall_score: 0.9968944099378882\n",
      "precision: 0.9826530612244898\n",
      "roc_curve: 0.9414002251031723\n",
      "f1_score: 0.9897225077081191\n"
     ]
    }
   ],
   "source": [
    "v = accuracy_score(test_y , pred_y)\n",
    "w = recall_score(test_y , pred_y)\n",
    "x = precision_score(test_y , pred_y)\n",
    "y = roc_auc_score(test_y , pred_y)\n",
    "z = f1_score(test_y , pred_y)\n",
    "print('accuracy :',v)\n",
    "print('recall_score:',w)\n",
    "print('precision:',x)\n",
    "print('roc_curve:',y)\n",
    "print('f1_score:',z)"
   ]
  },
  {
   "cell_type": "code",
   "execution_count": 48,
   "id": "689ec19f-254b-483e-a989-1c42a9dc0966",
   "metadata": {},
   "outputs": [
    {
     "name": "stdout",
     "output_type": "stream",
     "text": [
      "              precision    recall  f1-score   support\n",
      "\n",
      "           0       0.98      0.89      0.93       149\n",
      "           1       0.98      1.00      0.99       966\n",
      "\n",
      "    accuracy                           0.98      1115\n",
      "   macro avg       0.98      0.94      0.96      1115\n",
      "weighted avg       0.98      0.98      0.98      1115\n",
      "\n"
     ]
    },
    {
     "data": {
      "image/png": "[encoded data removed]",
      "text/plain": [
       "<Figure size 432x288 with 2 Axes>"
      ]
     },
     "metadata": {
      "needs_background": "light"
     },
     "output_type": "display_data"
    }
   ],
   "source": [
    "from sklearn.metrics import classification_report\n",
    "print(classification_report(test_y , pred_y))\n",
    "sns.heatmap(confusion_matrix(test_y , pred_y),\n",
    "                annot=True,fmt = \"d\",linecolor=\"k\",linewidths=3)\n",
    "    \n",
    "plt.title(\"LOGISTIC REGRESSION CLASSIFIER CONFUSION MATRIX\",fontsize=14)\n",
    "plt.show()"
   ]
  },
  {
   "cell_type": "code",
   "execution_count": null,
   "id": "5c866a9a-4ce8-46e7-8477-9e818e75ec2f",
   "metadata": {},
   "outputs": [],
   "source": []
  },
  {
   "cell_type": "markdown",
   "id": "c2eb16ea-4483-4a26-871e-8cc7d860262d",
   "metadata": {},
   "source": [
    "# K NEAREST NEIGHBOURS"
   ]
  },
  {
   "cell_type": "code",
   "execution_count": 49,
   "id": "75d752b5-629f-41ea-9905-081454f1f285",
   "metadata": {},
   "outputs": [
    {
     "data": {
      "text/plain": [
       "array([[ 58,  91],\n",
       "       [  0, 966]], dtype=int64)"
      ]
     },
     "execution_count": 49,
     "metadata": {},
     "output_type": "execute_result"
    }
   ],
   "source": [
    "from sklearn.neighbors import KNeighborsClassifier\n",
    "knn=KNeighborsClassifier()\n",
    "knn.fit(train_X , train_y)\n",
    "pred_y = knn.predict(test_X)\n",
    "confusion_matrix(test_y , pred_y)"
   ]
  },
  {
   "cell_type": "code",
   "execution_count": 50,
   "id": "c3a7427d-4ac4-4f0e-8e67-fa2f570cd0be",
   "metadata": {},
   "outputs": [
    {
     "name": "stdout",
     "output_type": "stream",
     "text": [
      "accuracy : 0.9183856502242153\n",
      "recall_score: 1.0\n",
      "precision: 0.9139072847682119\n",
      "roc_curve: 0.6946308724832215\n",
      "f1_score: 0.9550173010380623\n"
     ]
    }
   ],
   "source": [
    "v = accuracy_score(test_y , pred_y)\n",
    "w = recall_score(test_y , pred_y)\n",
    "x = precision_score(test_y , pred_y)\n",
    "y = roc_auc_score(test_y , pred_y)\n",
    "z = f1_score(test_y , pred_y)\n",
    "print('accuracy :',v)\n",
    "print('recall_score:',w)\n",
    "print('precision:',x)\n",
    "print('roc_curve:',y)\n",
    "print('f1_score:',z)"
   ]
  },
  {
   "cell_type": "code",
   "execution_count": 51,
   "id": "be4f8962-2e5d-4c69-b953-354fd46632ef",
   "metadata": {},
   "outputs": [
    {
     "name": "stdout",
     "output_type": "stream",
     "text": [
      "              precision    recall  f1-score   support\n",
      "\n",
      "           0       1.00      0.39      0.56       149\n",
      "           1       0.91      1.00      0.96       966\n",
      "\n",
      "    accuracy                           0.92      1115\n",
      "   macro avg       0.96      0.69      0.76      1115\n",
      "weighted avg       0.93      0.92      0.90      1115\n",
      "\n"
     ]
    },
    {
     "data": {
      "image/png": "[encoded data removed]",
      "text/plain": [
       "<Figure size 432x288 with 2 Axes>"
      ]
     },
     "metadata": {
      "needs_background": "light"
     },
     "output_type": "display_data"
    }
   ],
   "source": [
    "from sklearn.metrics import classification_report\n",
    "print(classification_report(test_y , pred_y))\n",
    "sns.heatmap(confusion_matrix(test_y , pred_y),\n",
    "                annot=True,fmt = \"d\",linecolor=\"k\",linewidths=3)\n",
    "    \n",
    "plt.title(\"KNN CLASSIFIER CONFUSION MATRIX\",fontsize=14)\n",
    "plt.show()"
   ]
  },
  {
   "cell_type": "code",
   "execution_count": 52,
   "id": "5c00d8a9-1ab5-44a4-91bd-00fab0380a44",
   "metadata": {},
   "outputs": [
    {
     "data": {
      "text/plain": [
       "{'n_neighbors': 1}"
      ]
     },
     "execution_count": 52,
     "metadata": {},
     "output_type": "execute_result"
    }
   ],
   "source": [
    "# CROSS VALIDATION OF KNN\n",
    "parameter_dict={'n_neighbors':[1,11,21,31,41,51,75,101]}\n",
    "from sklearn.model_selection import GridSearchCV\n",
    "grid_df=GridSearchCV(knn,param_grid=parameter_dict)\n",
    "grid_df.fit(train_X , train_y)\n",
    "grid_df.best_params_"
   ]
  },
  {
   "cell_type": "code",
   "execution_count": 53,
   "id": "3f47f032-c0ef-40eb-b332-f6a3aaac46bc",
   "metadata": {},
   "outputs": [
    {
     "data": {
      "text/plain": [
       "array([[ 91,  58],\n",
       "       [  0, 966]], dtype=int64)"
      ]
     },
     "execution_count": 53,
     "metadata": {},
     "output_type": "execute_result"
    }
   ],
   "source": [
    "knn=KNeighborsClassifier(n_neighbors=1,weights='uniform')\n",
    "knn.fit(train_X , train_y)\n",
    "pred_y = knn.predict(test_X)\n",
    "confusion_matrix(test_y , pred_y)"
   ]
  },
  {
   "cell_type": "code",
   "execution_count": 54,
   "id": "908e0853-5e8b-443d-b050-06287028b569",
   "metadata": {},
   "outputs": [
    {
     "name": "stdout",
     "output_type": "stream",
     "text": [
      "accuracy : 0.9479820627802691\n",
      "recall_score: 1.0\n",
      "precision: 0.943359375\n",
      "roc_curve: 0.8053691275167785\n",
      "f1_score: 0.9708542713567839\n"
     ]
    }
   ],
   "source": [
    "v = accuracy_score(test_y , pred_y)\n",
    "w = recall_score(test_y , pred_y)\n",
    "x = precision_score(test_y , pred_y)\n",
    "y = roc_auc_score(test_y , pred_y)\n",
    "z = f1_score(test_y , pred_y)\n",
    "print('accuracy :',v)\n",
    "print('recall_score:',w)\n",
    "print('precision:',x)\n",
    "print('roc_curve:',y)\n",
    "print('f1_score:',z)"
   ]
  },
  {
   "cell_type": "code",
   "execution_count": 55,
   "id": "0fb2d322-d6f2-4726-943e-0c1d4218f3e4",
   "metadata": {},
   "outputs": [
    {
     "name": "stdout",
     "output_type": "stream",
     "text": [
      "              precision    recall  f1-score   support\n",
      "\n",
      "           0       1.00      0.61      0.76       149\n",
      "           1       0.94      1.00      0.97       966\n",
      "\n",
      "    accuracy                           0.95      1115\n",
      "   macro avg       0.97      0.81      0.86      1115\n",
      "weighted avg       0.95      0.95      0.94      1115\n",
      "\n"
     ]
    },
    {
     "data": {
      "image/png": "[encoded data removed]",
      "text/plain": [
       "<Figure size 432x288 with 2 Axes>"
      ]
     },
     "metadata": {
      "needs_background": "light"
     },
     "output_type": "display_data"
    }
   ],
   "source": [
    "from sklearn.metrics import classification_report\n",
    "print(classification_report(test_y , pred_y))\n",
    "sns.heatmap(confusion_matrix(test_y , pred_y),\n",
    "                annot=True,fmt = \"d\",linecolor=\"k\",linewidths=3)\n",
    "    \n",
    "plt.title(\"KNN CLASSIFIER CONFUSION MATRIX\",fontsize=14)\n",
    "plt.show()"
   ]
  },
  {
   "cell_type": "code",
   "execution_count": null,
   "id": "ecab6275-a4d4-48c4-a610-f671b6ccc2dd",
   "metadata": {},
   "outputs": [],
   "source": []
  },
  {
   "cell_type": "markdown",
   "id": "b26382a9-9676-45a0-9c3d-9002acd3876b",
   "metadata": {},
   "source": [
    "# DECISION TREE CLASSIFIER"
   ]
  },
  {
   "cell_type": "code",
   "execution_count": 56,
   "id": "bc648fc1-eda8-43cf-a6df-2e294b14af85",
   "metadata": {},
   "outputs": [
    {
     "data": {
      "text/plain": [
       "array([[117,  32],\n",
       "       [  8, 958]], dtype=int64)"
      ]
     },
     "execution_count": 56,
     "metadata": {},
     "output_type": "execute_result"
    }
   ],
   "source": [
    "from sklearn.tree import DecisionTreeClassifier\n",
    "dt=DecisionTreeClassifier()\n",
    "dt.fit(train_X , train_y)\n",
    "pred_y=dt.predict(test_X)\n",
    "confusion_matrix(test_y , pred_y)"
   ]
  },
  {
   "cell_type": "code",
   "execution_count": 57,
   "id": "79c5f72c-d451-4aec-aa2c-8496da39eb55",
   "metadata": {},
   "outputs": [
    {
     "name": "stdout",
     "output_type": "stream",
     "text": [
      "accuracy : 0.9641255605381166\n",
      "recall_score: 0.9917184265010351\n",
      "precision: 0.9676767676767677\n",
      "roc_curve: 0.888476662914947\n",
      "f1_score: 0.9795501022494887\n"
     ]
    }
   ],
   "source": [
    "v = accuracy_score(test_y , pred_y)\n",
    "w = recall_score(test_y , pred_y)\n",
    "x = precision_score(test_y , pred_y)\n",
    "y = roc_auc_score(test_y , pred_y)\n",
    "z = f1_score(test_y , pred_y)\n",
    "print('accuracy :',v)\n",
    "print('recall_score:',w)\n",
    "print('precision:',x)\n",
    "print('roc_curve:',y)\n",
    "print('f1_score:',z)"
   ]
  },
  {
   "cell_type": "code",
   "execution_count": 58,
   "id": "eec3e162-1686-435c-84db-44997685d592",
   "metadata": {
    "tags": []
   },
   "outputs": [
    {
     "data": {
      "text/plain": [
       "GridSearchCV(estimator=DecisionTreeClassifier(),\n",
       "             param_grid={'criterion': ['gini', 'entropy'],\n",
       "                         'max_depth': [1, 30, 4],\n",
       "                         'min_samples_split': [1, 2, 3, 4, 5]})"
      ]
     },
     "execution_count": 58,
     "metadata": {},
     "output_type": "execute_result"
    }
   ],
   "source": [
    "# CROSS VALIDATION OF DECISION TREE CLASSIFIER\n",
    "parameter_dict={'criterion':['gini','entropy'],'max_depth':[1,30,4],\n",
    "    'min_samples_split':[1,2,3,4,5]}\n",
    "grid_model=GridSearchCV(dt,param_grid=parameter_dict)\n",
    "grid_model.fit(train_X , train_y)"
   ]
  },
  {
   "cell_type": "code",
   "execution_count": 59,
   "id": "abff368b-0b6b-410c-b8fb-7dbb8a96c667",
   "metadata": {},
   "outputs": [
    {
     "data": {
      "text/plain": [
       "{'criterion': 'entropy', 'max_depth': 30, 'min_samples_split': 2}"
      ]
     },
     "execution_count": 59,
     "metadata": {},
     "output_type": "execute_result"
    }
   ],
   "source": [
    "grid_model.best_params_"
   ]
  },
  {
   "cell_type": "code",
   "execution_count": 60,
   "id": "dca7682f-e9f7-4835-ba53-fbbddd8208ea",
   "metadata": {},
   "outputs": [
    {
     "data": {
      "text/plain": [
       "array([[116,  33],\n",
       "       [  7, 959]], dtype=int64)"
      ]
     },
     "execution_count": 60,
     "metadata": {},
     "output_type": "execute_result"
    }
   ],
   "source": [
    "dt=DecisionTreeClassifier(criterion='entropy' , max_depth=30 , min_samples_split=2)\n",
    "dt.fit(train_X , train_y)\n",
    "pred_y=dt.predict(test_X)\n",
    "confusion_matrix(test_y , pred_y)"
   ]
  },
  {
   "cell_type": "code",
   "execution_count": 61,
   "id": "f78aec1c-5f76-4ee6-a2ce-839606d8ff3a",
   "metadata": {},
   "outputs": [
    {
     "name": "stdout",
     "output_type": "stream",
     "text": [
      "accuracy : 0.9641255605381166\n",
      "recall_score: 0.9927536231884058\n",
      "precision: 0.9667338709677419\n",
      "roc_curve: 0.8856385565606458\n",
      "f1_score: 0.9795709908069458\n"
     ]
    }
   ],
   "source": [
    "v = accuracy_score(test_y , pred_y)\n",
    "w = recall_score(test_y , pred_y)\n",
    "x = precision_score(test_y , pred_y)\n",
    "y = roc_auc_score(test_y , pred_y)\n",
    "z = f1_score(test_y , pred_y)\n",
    "print('accuracy :',v)\n",
    "print('recall_score:',w)\n",
    "print('precision:',x)\n",
    "print('roc_curve:',y)\n",
    "print('f1_score:',z)"
   ]
  },
  {
   "cell_type": "code",
   "execution_count": 62,
   "id": "9fa0ebe8-8bcd-47c7-a502-3248fd1263ba",
   "metadata": {},
   "outputs": [
    {
     "name": "stdout",
     "output_type": "stream",
     "text": [
      "              precision    recall  f1-score   support\n",
      "\n",
      "           0       0.94      0.78      0.85       149\n",
      "           1       0.97      0.99      0.98       966\n",
      "\n",
      "    accuracy                           0.96      1115\n",
      "   macro avg       0.95      0.89      0.92      1115\n",
      "weighted avg       0.96      0.96      0.96      1115\n",
      "\n"
     ]
    },
    {
     "data": {
      "image/png": "[encoded data removed]",
      "text/plain": [
       "<Figure size 432x288 with 2 Axes>"
      ]
     },
     "metadata": {
      "needs_background": "light"
     },
     "output_type": "display_data"
    }
   ],
   "source": [
    "from sklearn.metrics import classification_report\n",
    "print(classification_report(test_y , pred_y))\n",
    "sns.heatmap(confusion_matrix(test_y , pred_y),\n",
    "                annot=True,fmt = \"d\",linecolor=\"k\",linewidths=3)\n",
    "    \n",
    "plt.title(\"DECISION TREE CLASSIFIER CONFUSION MATRIX\",fontsize=14)\n",
    "plt.show()"
   ]
  },
  {
   "cell_type": "code",
   "execution_count": null,
   "id": "9802e1c4-1f48-4eb6-a461-735fdf088d6c",
   "metadata": {},
   "outputs": [],
   "source": []
  },
  {
   "cell_type": "markdown",
   "id": "375ae252-47a6-4101-90e6-2095177cd412",
   "metadata": {},
   "source": [
    "# BAGGING CLASSIFIER"
   ]
  },
  {
   "cell_type": "code",
   "execution_count": 63,
   "id": "6eafb58a-71b9-40cc-9dc0-14a54043ff86",
   "metadata": {},
   "outputs": [
    {
     "data": {
      "text/plain": [
       "array([[120,  29],\n",
       "       [  5, 961]], dtype=int64)"
      ]
     },
     "execution_count": 63,
     "metadata": {},
     "output_type": "execute_result"
    }
   ],
   "source": [
    "from sklearn.ensemble import BaggingClassifier\n",
    "bg=BaggingClassifier( n_estimators=100,bootstrap=True,oob_score=True,random_state=42)\n",
    "bg.fit(train_X , train_y)\n",
    "pred_y=bg.predict(test_X)\n",
    "confusion_matrix(test_y,pred_y)"
   ]
  },
  {
   "cell_type": "code",
   "execution_count": 64,
   "id": "337a7a58-05df-4bbf-85a2-07f5c27e794a",
   "metadata": {},
   "outputs": [
    {
     "name": "stdout",
     "output_type": "stream",
     "text": [
      "accuracy : 0.9695067264573991\n",
      "recall_score: 0.994824016563147\n",
      "precision: 0.9707070707070707\n",
      "roc_curve: 0.9000965720399627\n",
      "f1_score: 0.9826175869120655\n"
     ]
    }
   ],
   "source": [
    "v = accuracy_score(test_y , pred_y)\n",
    "w = recall_score(test_y , pred_y)\n",
    "x = precision_score(test_y , pred_y)\n",
    "y = roc_auc_score(test_y , pred_y)\n",
    "z = f1_score(test_y , pred_y)\n",
    "print('accuracy :',v)\n",
    "print('recall_score:',w)\n",
    "print('precision:',x)\n",
    "print('roc_curve:',y)\n",
    "print('f1_score:',z)"
   ]
  },
  {
   "cell_type": "code",
   "execution_count": 65,
   "id": "2b17b2d2-4e4d-4fe5-850f-19b64d198195",
   "metadata": {
    "tags": []
   },
   "outputs": [
    {
     "data": {
      "text/plain": [
       "GridSearchCV(estimator=BaggingClassifier(n_estimators=100, oob_score=True,\n",
       "                                         random_state=42),\n",
       "             param_grid={'n_estimators': [1, 11, 21, 31, 41, 51, 61, 71, 81,\n",
       "                                          91]})"
      ]
     },
     "execution_count": 65,
     "metadata": {},
     "output_type": "execute_result"
    }
   ],
   "source": [
    "#CROSS VALIDATION OF BAGGING CLASSIFIER\n",
    "from sklearn.model_selection import GridSearchCV\n",
    "param_grid_bagging = {'n_estimators':list(range(1,100,10))}\n",
    "grid = GridSearchCV(bg , param_grid=param_grid_bagging)\n",
    "grid.fit(train_X , train_y)"
   ]
  },
  {
   "cell_type": "code",
   "execution_count": 66,
   "id": "bf3c0ac0-e8a4-4257-90b0-a7cacb078454",
   "metadata": {},
   "outputs": [
    {
     "data": {
      "text/plain": [
       "{'n_estimators': 51}"
      ]
     },
     "execution_count": 66,
     "metadata": {},
     "output_type": "execute_result"
    }
   ],
   "source": [
    "grid.best_params_"
   ]
  },
  {
   "cell_type": "code",
   "execution_count": 67,
   "id": "0461d1d4-4f92-4a9d-9998-60a69bd67759",
   "metadata": {},
   "outputs": [
    {
     "data": {
      "text/plain": [
       "array([[121,  28],\n",
       "       [  5, 961]], dtype=int64)"
      ]
     },
     "execution_count": 67,
     "metadata": {},
     "output_type": "execute_result"
    }
   ],
   "source": [
    "bg = BaggingClassifier(n_estimators=21 , bootstrap=True , oob_score=True)\n",
    "bg.fit(train_X , train_y)\n",
    "pred_y = bg.predict(test_X)\n",
    "confusion_matrix(test_y , pred_y)"
   ]
  },
  {
   "cell_type": "code",
   "execution_count": 68,
   "id": "dcff91e3-3660-4ea8-802b-c83efc2c0609",
   "metadata": {},
   "outputs": [
    {
     "name": "stdout",
     "output_type": "stream",
     "text": [
      "accuracy : 0.9704035874439462\n",
      "recall_score: 0.994824016563147\n",
      "precision: 0.9716885743174924\n",
      "roc_curve: 0.9034522767379494\n",
      "f1_score: 0.9831202046035806\n"
     ]
    }
   ],
   "source": [
    "v = accuracy_score(test_y , pred_y)\n",
    "w = recall_score(test_y , pred_y)\n",
    "x = precision_score(test_y , pred_y)\n",
    "y = roc_auc_score(test_y , pred_y)\n",
    "z = f1_score(test_y , pred_y)\n",
    "print('accuracy :',v)\n",
    "print('recall_score:',w)\n",
    "print('precision:',x)\n",
    "print('roc_curve:',y)\n",
    "print('f1_score:',z)"
   ]
  },
  {
   "cell_type": "code",
   "execution_count": 69,
   "id": "85f475f5-3572-4b1c-a898-d780a883aff7",
   "metadata": {},
   "outputs": [
    {
     "name": "stdout",
     "output_type": "stream",
     "text": [
      "              precision    recall  f1-score   support\n",
      "\n",
      "           0       0.96      0.81      0.88       149\n",
      "           1       0.97      0.99      0.98       966\n",
      "\n",
      "    accuracy                           0.97      1115\n",
      "   macro avg       0.97      0.90      0.93      1115\n",
      "weighted avg       0.97      0.97      0.97      1115\n",
      "\n"
     ]
    },
    {
     "data": {
      "image/png": "[encoded data removed]",
      "text/plain": [
       "<Figure size 432x288 with 2 Axes>"
      ]
     },
     "metadata": {
      "needs_background": "light"
     },
     "output_type": "display_data"
    }
   ],
   "source": [
    "from sklearn.metrics import classification_report\n",
    "print(classification_report(test_y , pred_y))\n",
    "sns.heatmap(confusion_matrix(test_y , pred_y),\n",
    "                annot=True,fmt = \"d\",linecolor=\"k\",linewidths=3)\n",
    "    \n",
    "plt.title(\"BAGGING CLASSIFIER CONFUSION MATRIX\",fontsize=14)\n",
    "plt.show()"
   ]
  },
  {
   "cell_type": "code",
   "execution_count": null,
   "id": "98cee4a7-79d5-40e7-8ef6-2b3e011b7d43",
   "metadata": {},
   "outputs": [],
   "source": []
  },
  {
   "cell_type": "markdown",
   "id": "6c0cbe25-2bb6-4e93-ba59-c8cd90257ef7",
   "metadata": {},
   "source": [
    "# RANDOM FOREST CLASSIFIER"
   ]
  },
  {
   "cell_type": "code",
   "execution_count": 70,
   "id": "14110265-93bc-4356-8f82-2eb659261c7a",
   "metadata": {},
   "outputs": [
    {
     "data": {
      "text/plain": [
       "array([[118,  31],\n",
       "       [  0, 966]], dtype=int64)"
      ]
     },
     "execution_count": 70,
     "metadata": {},
     "output_type": "execute_result"
    }
   ],
   "source": [
    "from sklearn.ensemble import RandomForestClassifier\n",
    "rf=RandomForestClassifier()\n",
    "rf.fit(train_X , train_y)\n",
    "pred_y = rf.predict(test_X)\n",
    "confusion_matrix(test_y , pred_y)"
   ]
  },
  {
   "cell_type": "code",
   "execution_count": 71,
   "id": "6127393a-4c62-4427-aed5-58c6c0bc4e45",
   "metadata": {},
   "outputs": [
    {
     "name": "stdout",
     "output_type": "stream",
     "text": [
      "accuracy : 0.9721973094170404\n",
      "recall_score: 1.0\n",
      "precision: 0.9689067201604814\n",
      "roc_curve: 0.8959731543624161\n",
      "f1_score: 0.9842078451349974\n"
     ]
    }
   ],
   "source": [
    "v = accuracy_score(test_y , pred_y)\n",
    "w = recall_score(test_y , pred_y)\n",
    "x = precision_score(test_y , pred_y)\n",
    "y = roc_auc_score(test_y , pred_y)\n",
    "z = f1_score(test_y , pred_y)\n",
    "print('accuracy :',v)\n",
    "print('recall_score:',w)\n",
    "print('precision:',x)\n",
    "print('roc_curve:',y)\n",
    "print('f1_score:',z)"
   ]
  },
  {
   "cell_type": "code",
   "execution_count": 72,
   "id": "8b6baf92-b769-47b6-b1c6-9532567438e3",
   "metadata": {},
   "outputs": [
    {
     "name": "stdout",
     "output_type": "stream",
     "text": [
      "              precision    recall  f1-score   support\n",
      "\n",
      "           0       1.00      0.79      0.88       149\n",
      "           1       0.97      1.00      0.98       966\n",
      "\n",
      "    accuracy                           0.97      1115\n",
      "   macro avg       0.98      0.90      0.93      1115\n",
      "weighted avg       0.97      0.97      0.97      1115\n",
      "\n"
     ]
    },
    {
     "data": {
      "image/png": "[encoded data removed]",
      "text/plain": [
       "<Figure size 432x288 with 2 Axes>"
      ]
     },
     "metadata": {
      "needs_background": "light"
     },
     "output_type": "display_data"
    }
   ],
   "source": [
    "from sklearn.metrics import classification_report\n",
    "print(classification_report(test_y , pred_y))\n",
    "sns.heatmap(confusion_matrix(test_y , pred_y),\n",
    "                annot=True,fmt = \"d\",linecolor=\"k\",linewidths=3)\n",
    "    \n",
    "plt.title(\"RANDOM FOREST CLASSIFIER CONFUSION MATRIX\",fontsize=14)\n",
    "plt.show()"
   ]
  },
  {
   "cell_type": "code",
   "execution_count": null,
   "id": "11697484-d87a-4469-89c8-7ffffdfdade5",
   "metadata": {},
   "outputs": [],
   "source": []
  },
  {
   "cell_type": "markdown",
   "id": "705ac178-2a16-4811-b665-30ab71183981",
   "metadata": {},
   "source": [
    "# SUPPORT VECTOR CLASSIFIER"
   ]
  },
  {
   "cell_type": "code",
   "execution_count": 73,
   "id": "e3441488-2bf6-4458-9228-aaccc5a1c7f3",
   "metadata": {},
   "outputs": [
    {
     "data": {
      "text/plain": [
       "array([[123,  26],\n",
       "       [  0, 966]], dtype=int64)"
      ]
     },
     "execution_count": 73,
     "metadata": {},
     "output_type": "execute_result"
    }
   ],
   "source": [
    "from sklearn.svm import SVC\n",
    "svm= SVC()\n",
    "svm.fit(train_X , train_y)\n",
    "pred_y=svm.predict(test_X)\n",
    "confusion_matrix(test_y , pred_y)"
   ]
  },
  {
   "cell_type": "code",
   "execution_count": 74,
   "id": "72b20a25-bbaa-40ac-8796-1edeca5b3af3",
   "metadata": {},
   "outputs": [
    {
     "name": "stdout",
     "output_type": "stream",
     "text": [
      "accuracy : 0.9766816143497757\n",
      "recall_score: 1.0\n",
      "precision: 0.9737903225806451\n",
      "roc_curve: 0.912751677852349\n",
      "f1_score: 0.9867211440245148\n"
     ]
    }
   ],
   "source": [
    "v = accuracy_score(test_y , pred_y)\n",
    "w = recall_score(test_y , pred_y)\n",
    "x = precision_score(test_y , pred_y)\n",
    "y = roc_auc_score(test_y , pred_y)\n",
    "z = f1_score(test_y , pred_y)\n",
    "print('accuracy :',v)\n",
    "print('recall_score:',w)\n",
    "print('precision:',x)\n",
    "print('roc_curve:',y)\n",
    "print('f1_score:',z)"
   ]
  },
  {
   "cell_type": "code",
   "execution_count": 75,
   "id": "7cbd3006-adcf-4a0b-a063-ef6fb0ebb893",
   "metadata": {},
   "outputs": [
    {
     "name": "stdout",
     "output_type": "stream",
     "text": [
      "              precision    recall  f1-score   support\n",
      "\n",
      "           0       1.00      0.83      0.90       149\n",
      "           1       0.97      1.00      0.99       966\n",
      "\n",
      "    accuracy                           0.98      1115\n",
      "   macro avg       0.99      0.91      0.95      1115\n",
      "weighted avg       0.98      0.98      0.98      1115\n",
      "\n"
     ]
    },
    {
     "data": {
      "image/png": "[encoded data removed]",
      "text/plain": [
       "<Figure size 432x288 with 2 Axes>"
      ]
     },
     "metadata": {
      "needs_background": "light"
     },
     "output_type": "display_data"
    }
   ],
   "source": [
    "from sklearn.metrics import classification_report\n",
    "print(classification_report(test_y , pred_y))\n",
    "sns.heatmap(confusion_matrix(test_y , pred_y),\n",
    "                annot=True,fmt = \"d\",linecolor=\"k\",linewidths=3)\n",
    "    \n",
    "plt.title(\"SUPPORT VECTOR CLASSIFIER CONFUSION MATRIX\",fontsize=14)\n",
    "plt.show()"
   ]
  },
  {
   "cell_type": "code",
   "execution_count": 76,
   "id": "7ca3a6b7-7db1-49ff-9dda-f122d1840477",
   "metadata": {},
   "outputs": [
    {
     "data": {
      "text/plain": [
       "{'C': 1, 'kernel': 'linear'}"
      ]
     },
     "execution_count": 76,
     "metadata": {},
     "output_type": "execute_result"
    }
   ],
   "source": [
    "# CROSS VALIDATION WITH SVC\n",
    "from sklearn.model_selection import GridSearchCV\n",
    "param_dict = {'kernel':['linear', 'poly', 'rbf', 'sigmoid'],\n",
    "             'C' : list(range(1,10,1))}\n",
    "svm_grid = GridSearchCV(svm , param_grid = param_dict)\n",
    "svm_grid = svm_grid.fit(train_X , train_y)\n",
    "svm_grid.best_params_"
   ]
  },
  {
   "cell_type": "code",
   "execution_count": 77,
   "id": "98620888-e216-43ff-9240-23992b308f53",
   "metadata": {},
   "outputs": [
    {
     "data": {
      "text/plain": [
       "array([[134,  15],\n",
       "       [  2, 964]], dtype=int64)"
      ]
     },
     "execution_count": 77,
     "metadata": {},
     "output_type": "execute_result"
    }
   ],
   "source": [
    "svm= SVC(C=1 , kernel = 'linear')\n",
    "svm.fit(train_X , train_y)\n",
    "pred_y=svm.predict(test_X)\n",
    "confusion_matrix(test_y , pred_y)"
   ]
  },
  {
   "cell_type": "code",
   "execution_count": 78,
   "id": "5c86cf18-7132-4c5b-8789-8bbdb829841d",
   "metadata": {},
   "outputs": [
    {
     "name": "stdout",
     "output_type": "stream",
     "text": [
      "accuracy : 0.9847533632286996\n",
      "recall_score: 0.9979296066252588\n",
      "precision: 0.9846782431052093\n",
      "roc_curve: 0.9486292328428307\n",
      "f1_score: 0.9912596401028279\n"
     ]
    }
   ],
   "source": [
    "v = accuracy_score(test_y , pred_y)\n",
    "w = recall_score(test_y , pred_y)\n",
    "x = precision_score(test_y , pred_y)\n",
    "y = roc_auc_score(test_y , pred_y)\n",
    "z = f1_score(test_y , pred_y)\n",
    "print('accuracy :',v)\n",
    "print('recall_score:',w)\n",
    "print('precision:',x)\n",
    "print('roc_curve:',y)\n",
    "print('f1_score:',z)"
   ]
  },
  {
   "cell_type": "code",
   "execution_count": 79,
   "id": "0b4cc10e-d300-44cc-aace-0a53219da1bf",
   "metadata": {},
   "outputs": [
    {
     "name": "stdout",
     "output_type": "stream",
     "text": [
      "              precision    recall  f1-score   support\n",
      "\n",
      "           0       0.99      0.90      0.94       149\n",
      "           1       0.98      1.00      0.99       966\n",
      "\n",
      "    accuracy                           0.98      1115\n",
      "   macro avg       0.98      0.95      0.97      1115\n",
      "weighted avg       0.98      0.98      0.98      1115\n",
      "\n"
     ]
    },
    {
     "data": {
      "image/png": "[encoded data removed]",
      "text/plain": [
       "<Figure size 432x288 with 2 Axes>"
      ]
     },
     "metadata": {
      "needs_background": "light"
     },
     "output_type": "display_data"
    }
   ],
   "source": [
    "from sklearn.metrics import classification_report\n",
    "print(classification_report(test_y , pred_y))\n",
    "sns.heatmap(confusion_matrix(test_y , pred_y),\n",
    "                annot=True,fmt = \"d\",linecolor=\"k\",linewidths=3)\n",
    "    \n",
    "plt.title(\"SUPPORT VECTOR CLASSIFIER CONFUSION MATRIX\",fontsize=14)\n",
    "plt.show()"
   ]
  },
  {
   "cell_type": "code",
   "execution_count": null,
   "id": "9b5c69b5-3f94-4dd6-b448-224173f9abab",
   "metadata": {},
   "outputs": [],
   "source": []
  },
  {
   "cell_type": "markdown",
   "id": "a190e828-3dac-471e-beb1-d0117e58568a",
   "metadata": {},
   "source": [
    "#  VOTING CLASSIFIER"
   ]
  },
  {
   "cell_type": "code",
   "execution_count": 80,
   "id": "97a4fdd1-bdc4-4d90-a534-5c5e86160ba2",
   "metadata": {},
   "outputs": [
    {
     "data": {
      "text/plain": [
       "array([[125,  24],\n",
       "       [  1, 965]], dtype=int64)"
      ]
     },
     "execution_count": 80,
     "metadata": {},
     "output_type": "execute_result"
    }
   ],
   "source": [
    "from sklearn.ensemble import VotingClassifier\n",
    "voting_clf=VotingClassifier([('svm',svm),('lr',lr),('knn',knn),('dt',dt),('rf',rf),('bg',bg)],voting='hard',n_jobs=5)\n",
    "voting_clf.fit(train_X , train_y)\n",
    "pred_y=voting_clf.predict(test_X)\n",
    "confusion_matrix(test_y,pred_y)"
   ]
  },
  {
   "cell_type": "code",
   "execution_count": 81,
   "id": "7e9cc7d6-f4e4-4784-9afd-6074ed5b7ece",
   "metadata": {},
   "outputs": [
    {
     "name": "stdout",
     "output_type": "stream",
     "text": [
      "accuracy : 0.9775784753363229\n",
      "recall_score: 0.9989648033126294\n",
      "precision: 0.9757330637007078\n",
      "roc_curve: 0.9189454889046368\n",
      "f1_score: 0.9872122762148338\n"
     ]
    }
   ],
   "source": [
    "v = accuracy_score(test_y , pred_y)\n",
    "w = recall_score(test_y , pred_y)\n",
    "x = precision_score(test_y , pred_y)\n",
    "y = roc_auc_score(test_y , pred_y)\n",
    "z = f1_score(test_y , pred_y)\n",
    "print('accuracy :',v)\n",
    "print('recall_score:',w)\n",
    "print('precision:',x)\n",
    "print('roc_curve:',y)\n",
    "print('f1_score:',z)"
   ]
  },
  {
   "cell_type": "code",
   "execution_count": 82,
   "id": "fa8ad7de-dffa-4025-a6d0-39458dd008ab",
   "metadata": {},
   "outputs": [
    {
     "name": "stdout",
     "output_type": "stream",
     "text": [
      "              precision    recall  f1-score   support\n",
      "\n",
      "           0       0.99      0.84      0.91       149\n",
      "           1       0.98      1.00      0.99       966\n",
      "\n",
      "    accuracy                           0.98      1115\n",
      "   macro avg       0.98      0.92      0.95      1115\n",
      "weighted avg       0.98      0.98      0.98      1115\n",
      "\n"
     ]
    },
    {
     "data": {
      "image/png": "[encoded data removed]",
      "text/plain": [
       "<Figure size 432x288 with 2 Axes>"
      ]
     },
     "metadata": {
      "needs_background": "light"
     },
     "output_type": "display_data"
    }
   ],
   "source": [
    "from sklearn.metrics import classification_report\n",
    "print(classification_report(test_y , pred_y))\n",
    "sns.heatmap(confusion_matrix(test_y , pred_y),\n",
    "                annot=True,fmt = \"d\",linecolor=\"k\",linewidths=3)\n",
    "    \n",
    "plt.title(\"VOTING CLASSIFIER CONFUSION MATRIX\",fontsize=14)\n",
    "plt.show()"
   ]
  },
  {
   "cell_type": "code",
   "execution_count": null,
   "id": "7faa9b6a-40ac-4fb2-9fcb-7f4ffb921257",
   "metadata": {},
   "outputs": [],
   "source": []
  },
  {
   "cell_type": "markdown",
   "id": "3b69022c-eeaa-477c-bfa7-9ebcf147a4ef",
   "metadata": {},
   "source": [
    "# XGBOOST CLASSIFIER"
   ]
  },
  {
   "cell_type": "code",
   "execution_count": 83,
   "id": "2c50dd70-d8f1-4759-99f3-3ee85510340c",
   "metadata": {},
   "outputs": [
    {
     "data": {
      "text/plain": [
       "array([[130,  19],\n",
       "       [  5, 961]], dtype=int64)"
      ]
     },
     "execution_count": 83,
     "metadata": {},
     "output_type": "execute_result"
    }
   ],
   "source": [
    "from xgboost import XGBClassifier\n",
    "xgb = XGBClassifier()\n",
    "xgb.fit(train_X , train_y)\n",
    "pred_y = xgb.predict(test_X)\n",
    "confusion_matrix(test_y , pred_y)"
   ]
  },
  {
   "cell_type": "code",
   "execution_count": 84,
   "id": "b10376c9-9662-4123-955c-be245fac75dc",
   "metadata": {},
   "outputs": [
    {
     "name": "stdout",
     "output_type": "stream",
     "text": [
      "accuracy : 0.97847533632287\n",
      "recall_score: 0.994824016563147\n",
      "precision: 0.9806122448979592\n",
      "roc_curve: 0.9336536190198285\n",
      "f1_score: 0.987667009249743\n"
     ]
    }
   ],
   "source": [
    "v = accuracy_score(test_y , pred_y)\n",
    "w = recall_score(test_y , pred_y)\n",
    "x = precision_score(test_y , pred_y)\n",
    "y = roc_auc_score(test_y , pred_y)\n",
    "z = f1_score(test_y , pred_y)\n",
    "print('accuracy :',v)\n",
    "print('recall_score:',w)\n",
    "print('precision:',x)\n",
    "print('roc_curve:',y)\n",
    "print('f1_score:',z)"
   ]
  },
  {
   "cell_type": "code",
   "execution_count": 85,
   "id": "cb44e6da-c0f7-48a4-b2a0-eab1ce897a6e",
   "metadata": {},
   "outputs": [
    {
     "name": "stdout",
     "output_type": "stream",
     "text": [
      "              precision    recall  f1-score   support\n",
      "\n",
      "           0       0.96      0.87      0.92       149\n",
      "           1       0.98      0.99      0.99       966\n",
      "\n",
      "    accuracy                           0.98      1115\n",
      "   macro avg       0.97      0.93      0.95      1115\n",
      "weighted avg       0.98      0.98      0.98      1115\n",
      "\n"
     ]
    },
    {
     "data": {
      "image/png": "[encoded data removed]",
      "text/plain": [
       "<Figure size 432x288 with 2 Axes>"
      ]
     },
     "metadata": {
      "needs_background": "light"
     },
     "output_type": "display_data"
    }
   ],
   "source": [
    "from sklearn.metrics import classification_report\n",
    "print(classification_report(test_y , pred_y))\n",
    "sns.heatmap(confusion_matrix(test_y , pred_y),\n",
    "                annot=True,fmt = \"d\",linecolor=\"k\",linewidths=3)\n",
    "    \n",
    "plt.title(\"XGBOOST CLASSIFIER CONFUSION MATRIX\",fontsize=14)\n",
    "plt.show()"
   ]
  },
  {
   "cell_type": "code",
   "execution_count": null,
   "id": "d7527b25-9ffe-44ef-8934-c1df4e20fdf3",
   "metadata": {},
   "outputs": [],
   "source": []
  },
  {
   "cell_type": "markdown",
   "id": "591ece22-0426-45d7-98ee-d97fcbeb4bbf",
   "metadata": {},
   "source": [
    "# Naive Baised Classifier"
   ]
  },
  {
   "cell_type": "code",
   "execution_count": 86,
   "id": "c90ef303-1821-467c-b85d-e9c1156df9c9",
   "metadata": {},
   "outputs": [
    {
     "data": {
      "text/plain": [
       "array([[128,  21],\n",
       "       [  3, 963]], dtype=int64)"
      ]
     },
     "execution_count": 86,
     "metadata": {},
     "output_type": "execute_result"
    }
   ],
   "source": [
    "# By bernoulli NB\n",
    "from sklearn.naive_bayes import BernoulliNB\n",
    "bnb = BernoulliNB()\n",
    "bnb.fit(train_X , train_y)\n",
    "pred_y = bnb.predict(test_X)\n",
    "confusion_matrix(test_y , pred_y)"
   ]
  },
  {
   "cell_type": "code",
   "execution_count": 87,
   "id": "3759fd9b-dfcd-4a9f-ae21-b09055d6a972",
   "metadata": {},
   "outputs": [
    {
     "name": "stdout",
     "output_type": "stream",
     "text": [
      "accuracy : 0.97847533632287\n",
      "recall_score: 0.9968944099378882\n",
      "precision: 0.9786585365853658\n",
      "roc_curve: 0.927977406311226\n",
      "f1_score: 0.9876923076923078\n"
     ]
    }
   ],
   "source": [
    "v = accuracy_score(test_y , pred_y)\n",
    "w = recall_score(test_y , pred_y)\n",
    "x = precision_score(test_y , pred_y)\n",
    "y = roc_auc_score(test_y , pred_y)\n",
    "z = f1_score(test_y , pred_y)\n",
    "print('accuracy :',v)\n",
    "print('recall_score:',w)\n",
    "print('precision:',x)\n",
    "print('roc_curve:',y)\n",
    "print('f1_score:',z)"
   ]
  },
  {
   "cell_type": "code",
   "execution_count": 88,
   "id": "32f56fa9-e01c-40ee-ac87-dc963486b691",
   "metadata": {},
   "outputs": [
    {
     "data": {
      "text/plain": [
       "array([[142,   7],\n",
       "       [ 21, 945]], dtype=int64)"
      ]
     },
     "execution_count": 88,
     "metadata": {},
     "output_type": "execute_result"
    }
   ],
   "source": [
    "# By MultinomialNB\n",
    "from sklearn.naive_bayes import MultinomialNB\n",
    "bnb = MultinomialNB()\n",
    "bnb.fit(train_X , train_y)\n",
    "pred_y = bnb.predict(test_X)\n",
    "confusion_matrix(test_y , pred_y)"
   ]
  },
  {
   "cell_type": "code",
   "execution_count": 89,
   "id": "d8cb1087-9c17-4056-96db-db14a167b58d",
   "metadata": {},
   "outputs": [
    {
     "name": "stdout",
     "output_type": "stream",
     "text": [
      "accuracy : 0.9748878923766816\n",
      "recall_score: 0.9782608695652174\n",
      "precision: 0.9926470588235294\n",
      "roc_curve: 0.9656405018967025\n",
      "f1_score: 0.9854014598540147\n"
     ]
    }
   ],
   "source": [
    "v = accuracy_score(test_y , pred_y)\n",
    "w = recall_score(test_y , pred_y)\n",
    "x = precision_score(test_y , pred_y)\n",
    "y = roc_auc_score(test_y , pred_y)\n",
    "z = f1_score(test_y , pred_y)\n",
    "print('accuracy :',v)\n",
    "print('recall_score:',w)\n",
    "print('precision:',x)\n",
    "print('roc_curve:',y)\n",
    "print('f1_score:',z)"
   ]
  },
  {
   "cell_type": "code",
   "execution_count": null,
   "id": "22ac0697-32e6-444a-8f76-254b65f0f021",
   "metadata": {},
   "outputs": [],
   "source": []
  },
  {
   "cell_type": "markdown",
   "id": "6f662725-2121-45f1-b403-5eac75a7692b",
   "metadata": {},
   "source": [
    "### To check My Algorithm working good or not"
   ]
  },
  {
   "cell_type": "code",
   "execution_count": 90,
   "id": "310ecb81-a9d0-4ef0-97b7-f06e6efac73e",
   "metadata": {},
   "outputs": [
    {
     "data": {
      "text/plain": [
       "array([1, 1], dtype=int64)"
      ]
     },
     "execution_count": 90,
     "metadata": {},
     "output_type": "execute_result"
    }
   ],
   "source": [
    "list1 = ['This is to update that an exclusive session on SQL has been arranged with Ms. Supriya Jadhav as on 12th & 13th February (arranged for PGA 29,30,31,32 & 33)',\n",
    "         'Here is another opportunity to showcase your creativity and explore the field of Data Science and work upon some really challenging problem statements on your own. We came up with the theme of a Data Science Project Competition across all Imarticus centers.']\n",
    "X_new = after_transformation.transform(list1)\n",
    "svm.predict(X_new)"
   ]
  },
  {
   "cell_type": "code",
   "execution_count": null,
   "id": "3124c00d-de28-443a-83cd-2b9da7d94494",
   "metadata": {},
   "outputs": [],
   "source": []
  },
  {
   "cell_type": "code",
   "execution_count": null,
   "id": "8088dc21-8ba9-422d-b862-35fd639b0bb6",
   "metadata": {},
   "outputs": [],
   "source": []
  },
  {
   "cell_type": "markdown",
   "id": "2a940bfc-e99b-41f7-b588-b436b943bea1",
   "metadata": {},
   "source": [
    "# CONCLUSION"
   ]
  },
  {
   "cell_type": "markdown",
   "id": "b5471dc6-0d1a-435b-86d7-861aea49a245",
   "metadata": {},
   "source": [
    "## Here I can see that , according to mee  CV_SVM shows me good result because if my mail is spam but it shows me spam so little bit count i'll accept but if my mail is HAM but it shows me spam so I'll not accept this so I'll go with  CV_SVM. "
   ]
  },
  {
   "cell_type": "code",
   "execution_count": null,
   "id": "229b5c9a-209e-48ed-aa0f-8377aa7dd41c",
   "metadata": {},
   "outputs": [],
   "source": []
  },
  {
   "cell_type": "code",
   "execution_count": null,
   "id": "41def05f-8adb-4a9e-abe3-72f6606e813a",
   "metadata": {},
   "outputs": [],
   "source": []
  },
  {
   "cell_type": "code",
   "execution_count": null,
   "id": "f2dfa418-66c3-4de1-8fab-66e25da5ae2a",
   "metadata": {},
   "outputs": [],
   "source": []
  }
 ],
 "metadata": {
  "kernelspec": {
   "display_name": "Python 3 (ipykernel)",
   "language": "python",
   "name": "python3"
  },
  "language_info": {
   "codemirror_mode": {
    "name": "ipython",
    "version": 3
   },
   "file_extension": ".py",
   "mimetype": "text/x-python",
   "name": "python",
   "nbconvert_exporter": "python",
   "pygments_lexer": "ipython3",
   "version": "3.9.12"
  }
 },
 "nbformat": 4,
 "nbformat_minor": 5
}
